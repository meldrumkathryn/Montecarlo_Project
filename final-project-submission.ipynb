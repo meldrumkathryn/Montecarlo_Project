{
 "cells": [
  {
   "cell_type": "markdown",
   "id": "1d555843-4a08-4d5a-b8e7-38a667574230",
   "metadata": {},
   "source": [
    "# Final Project Submission"
   ]
  },
  {
   "cell_type": "markdown",
   "id": "6adbb68f-c18d-4a23-b420-6b17f5b23366",
   "metadata": {},
   "source": [
    "# Metadata"
   ]
  },
  {
   "cell_type": "markdown",
   "id": "4a2fc180-25c4-4614-997d-da39b1098b05",
   "metadata": {},
   "source": [
    "Final project for DS5100"
   ]
  },
  {
   "cell_type": "markdown",
   "id": "d98134bc-1ff7-48d7-8d9c-869a59e15e80",
   "metadata": {},
   "source": [
    "7/15/22"
   ]
  },
  {
   "cell_type": "markdown",
   "id": "3be2b0a3-2797-4404-94d6-8b0e8eba549c",
   "metadata": {},
   "source": [
    "Kate Meldrum"
   ]
  },
  {
   "cell_type": "markdown",
   "id": "7420ffc1-6652-4aa7-b9e3-92adb9497bce",
   "metadata": {},
   "source": [
    "kmm4ap"
   ]
  },
  {
   "cell_type": "markdown",
   "id": "0a65e3be-802b-4b3e-8d5e-b2d41dca9228",
   "metadata": {},
   "source": [
    "Notebook URL: https://github.com/meldrumkathryn/DS5100_Final/blob/main/final-project-submission.ipynb"
   ]
  },
  {
   "cell_type": "markdown",
   "id": "213c6f52-8186-4803-b7b4-b14fcbcb9b34",
   "metadata": {},
   "source": [
    "Project repo url: https://github.com/meldrumkathryn/DS5100_Final"
   ]
  },
  {
   "cell_type": "markdown",
   "id": "6aa65f5f-f659-4cd1-a09a-bc82faf7468f",
   "metadata": {},
   "source": [
    "# Montecarlo Module:"
   ]
  },
  {
   "cell_type": "code",
   "execution_count": 1,
   "id": "d222aaf6-6d84-4ff6-8df5-d1dc7f764aa1",
   "metadata": {},
   "outputs": [],
   "source": [
    "import numpy as np\n",
    "import pandas as pd\n",
    "import random\n",
    "\n",
    "\n",
    "# Shortcuts:\n",
    "\n",
    "six_faces = [1, 2, 3, 4, 5, 6]\n",
    "\n",
    "\n",
    "class die:\n",
    "    \n",
    "    '''\n",
    "    A die has N sides, or “faces”, and W weights, and can be rolled to select a face\n",
    "    '''\n",
    "    \n",
    "    def __init__(self,faces):\n",
    "        \n",
    "        '''\n",
    "        purpose: create instance of class die\n",
    "        param: <array> of faces on die\n",
    "        return: None\n",
    "        '''\n",
    "        \n",
    "        weights = [1.0 for x in faces] # Create default weights\n",
    "        \n",
    "        #die attributes\n",
    "        self.faces = faces\n",
    "        self.weights = weights\n",
    "        self.__fwdf__ = pd.DataFrame(self.weights, index=self.faces)\n",
    "        self.__fwdf__.columns = ['Weight']\n",
    "        self.__fwdf__.index.name = 'Faces'\n",
    "        \n",
    "    def change_weight(self, face, weight):\n",
    "        \n",
    "        '''\n",
    "        purpose: change weight given to a face of die in roll\n",
    "        param1: <string, int, float> face to weight\n",
    "        param2: <int or float> weight to be given to face \n",
    "        return: None\n",
    "        '''\n",
    "        \n",
    "        # must be existing face and numeric weight\n",
    "        if face in self.faces: \n",
    "            if type(weight)==float or type(weight)==int:\n",
    "                i = self.faces.index(face)\n",
    "                self.weights[i] = float(weight)\n",
    "                self.__fwdf__ = pd.DataFrame(self.weights, index=self.faces)\n",
    "                self.__fwdf__.columns = ['Weight']\n",
    "                self.__fwdf__.index.name = 'Faces'\n",
    "            else:\n",
    "                print('Weight must be entered as float or int')\n",
    "        else: \n",
    "            print('Face does not exist on this die')\n",
    "            \n",
    "    def roll_die(self, rolls=1):\n",
    "        \n",
    "        '''\n",
    "        purpose: return a random face of die with condiseration to weights\n",
    "        param: <int >number of rolls \n",
    "        return: <list> face values\n",
    "        '''\n",
    "        \n",
    "        # random.choices pulls sample with replacement\n",
    "        return random.choices(self.faces, weights=self.weights, k=rolls)\n",
    "    \n",
    "    def display(self):\n",
    "        \n",
    "        '''\n",
    "        purpose: user can see faces and weights of die instance\n",
    "        return: dataframe\n",
    "        '''\n",
    "        \n",
    "        # allows users to access private face weight dataframe\n",
    "        return self.__fwdf__\n",
    "\n",
    "\n",
    "class game: \n",
    "    \n",
    "    '''\n",
    "    A game consists of rolling of one or more dice of the same list of faces one or more times\n",
    "    '''\n",
    "    \n",
    "    # Default dice\n",
    "    die1 = die(six_faces)\n",
    "    die2 = die(six_faces)\n",
    "    die3 = die(six_faces)\n",
    "    die4 = die(six_faces)\n",
    "    die5 = die(six_faces)\n",
    "    die6 = die(six_faces)\n",
    "    die_list = [die1,die2,die3,die4,die5,die6]\n",
    "    \n",
    "    __playdf__ = pd.DataFrame()# Empty data frame to be filled with game results and global amongst functions\n",
    "    \n",
    "    def __init__(self, die_list=die_list, __playdf__=__playdf__):\n",
    "        \n",
    "        '''\n",
    "        purpose: create and isntance of a game\n",
    "        param: <list of class die> , must have same number of faces\n",
    "        return: None\n",
    "        '''\n",
    "        \n",
    "        #attributes\n",
    "        for die in die_list:\n",
    "            self.die=die\n",
    "        self.die_list=die_list\n",
    "        self.__playdf__=__playdf__\n",
    "        \n",
    "    def play(self, n=100):\n",
    "        \n",
    "        '''\n",
    "        purpose: roll each die in game a number of times and imput face values into global dataframe\n",
    "        param: <int> number of rolls\n",
    "        return: None\n",
    "        '''\n",
    "        \n",
    "        #for each die, roll a certain amount of times and add to dictionary, create private dataframe when all dice have been rolled\n",
    "        data = {}\n",
    "        count=1\n",
    "        for die in self.die_list:\n",
    "            data[\"Die \"+str(count)] = [die.roll_die()[0] for i in range(n)]\n",
    "            count+=1\n",
    "        self.__playdf__ = pd.DataFrame(data, index = range(1, n+1))\n",
    "    \n",
    "    def show_rolls(self, wide=True):\n",
    "        \n",
    "        '''\n",
    "        purpose: display results of play function to user\n",
    "        param: <bool> indicating wide or narrow, defaults to wide\n",
    "        return: dataframe \n",
    "        '''\n",
    "        \n",
    "        # allow user to access private play dataframe\n",
    "        if wide==True: \n",
    "            return self.__playdf__\n",
    "        if wide == False:\n",
    "            return self.__playdf__.stack()\n",
    "        else:\n",
    "            print('Expected argument: True or False')\n",
    "\n",
    "\n",
    "class analyzer:\n",
    "    '''\n",
    "    takes the results of a single game and computes various descriptive statistical properties about it\n",
    "    '''\n",
    "    \n",
    "    game = game()\n",
    "    game.play()\n",
    "    \n",
    "    \n",
    "    def __init__(self, game=game): \n",
    "        '''\n",
    "        purpose: create and instance of analyzer class\n",
    "        param: instance of class game\n",
    "        return: None\n",
    "        '''\n",
    "        \n",
    "        #attributes\n",
    "        self.game = game\n",
    "        self.data_type = type(game.show_rolls().iloc[1,1])\n",
    "        self.jpdf = pd.DataFrame()\n",
    "                              \n",
    "    def jackpot(self):\n",
    "        '''\n",
    "        purpose: counts the number of rolls in game all dices showed an identical face\n",
    "        return: <int> number of occurances\n",
    "        '''\n",
    "        \n",
    "        #creates public dataframe, returns length\n",
    "        df = self.game.show_rolls(True)\n",
    "        rolls_lst = []\n",
    "        count = 1\n",
    "        for i in range(len(df)):\n",
    "            rolls_lst.append(list(df.iloc[i,:]))\n",
    "        for roll in rolls_lst:\n",
    "            if len(set(roll))==1:\n",
    "                self.jpdf[count]=roll\n",
    "            count += 1\n",
    "        self.jpdf = self.jpdf.T\n",
    "        self.jpdf.index.name = 'Roll #'\n",
    "        return len(self.jpdf)\n",
    "    \n",
    "    def sequence(self, freq=False):\n",
    "        \n",
    "        '''\n",
    "        purpose: method to compute the number of distinct sequences of faces rolled\n",
    "        param: freq = True/False to sort by frequency or not\n",
    "        return: dataframe\n",
    "        '''\n",
    "        \n",
    "        df = self.game.show_rolls(True) \n",
    "        rolls_lst = []\n",
    "        \n",
    "        # Get a list of list of row values\n",
    "        for i in range(len(df)):   \n",
    "            rolls_lst.append(list(df.iloc[i,:]))\n",
    "        \n",
    "        # Create frequency sorted dataframe    \n",
    "        if freq == True:\n",
    "            rolls_dict = {}\n",
    "            count = 1\n",
    "            for roll in rolls_lst:\n",
    "                roll = ''.join([str(i) for i in roll])\n",
    "                if roll in rolls_dict:\n",
    "                    rolls_dict[roll][0].append(count)\n",
    "                    rolls_dict[roll][1] += 1\n",
    "                if roll not in rolls_dict:\n",
    "                    rolls_dict[roll] = [[count], 1]\n",
    "                count += 1\n",
    "\n",
    "            freq_sdf = pd.DataFrame(rolls_dict).T\n",
    "            freq_sdf.columns = ['Roll #s', 'Total Frequency']\n",
    "            freq_sdf.index.name = 'Sequences'\n",
    "            freq_sdf = freq_sdf.sort_values(by = ['Total Frequency'], ascending = False)\n",
    "            self.freq_sdf = freq_sdf \n",
    "            return self.freq_sdf\n",
    "        \n",
    "        # Sequence sorted dataframe with multi-index\n",
    "        if freq == False: \n",
    "            sdf = pd.DataFrame(df.value_counts())\n",
    "            sdf.columns=['Frequency']\n",
    "            sdf.index.name = 'Face Values'\n",
    "            self.sdf = sdf\n",
    "            return sdf\n",
    "        \n",
    "    def combo(self, freq = False):\n",
    "        \n",
    "        '''\n",
    "        purpose: method to compute a dataframe of distinct combinations of faces rolled\n",
    "        param: freq = True/False to sort by frequency or not\n",
    "        return: dataframe\n",
    "        ''' \n",
    "        \n",
    "        df = self.game.show_rolls(True) \n",
    "        rolls_lst = []\n",
    "        \n",
    "        # Get a list of list of values\n",
    "        for i in range(len(df)):   \n",
    "            rolls_lst.append(list(df.iloc[i,:]))\n",
    "        \n",
    "        # Create frequency sorted dataframe\n",
    "        if freq ==True:\n",
    "            rolls_dict = {}\n",
    "            count = 1\n",
    "            for roll in rolls_lst:\n",
    "                roll = ''.join([str(i) for i in sorted(roll)])\n",
    "                if roll in rolls_dict:\n",
    "                    rolls_dict[roll][0].append(count)\n",
    "                    rolls_dict[roll][1] += 1\n",
    "                if roll not in rolls_dict:\n",
    "                    rolls_dict[roll] = [[count], 1]\n",
    "                count += 1\n",
    "        \n",
    "            freq_cdf = pd.DataFrame(rolls_dict).T\n",
    "            freq_cdf.columns = ['Roll #s', 'Total Frequency']\n",
    "            freq_cdf.index.name = 'Combination'\n",
    "            freq_cdf = freq_cdf.sort_values(by = ['Total Frequency'], ascending = False)\n",
    "            self.freq_cdf = freq_cdf\n",
    "            return self.freq_cdf\n",
    "        \n",
    "        # combo-sorted dataframe with multi-index\n",
    "        if freq == False: \n",
    "            dct = {}\n",
    "            for i in range(len(rolls_lst)):\n",
    "                dct[i+1] = sorted(rolls_lst[i])\n",
    "            dfsorted = pd.DataFrame(dct).T\n",
    "            cdf = pd.DataFrame(dfsorted.value_counts())\n",
    "            cdf.columns=['Frequency']\n",
    "            cdf.index.name = 'Face Values'\n",
    "            self.cdf = cdf\n",
    "            return cdf\n",
    "            \n",
    "        \n",
    "    def counts(self):\n",
    "        \n",
    "        '''\n",
    "        purpose: method to compute how many times a given face is rolled in each event\n",
    "        return: dataframe\n",
    "        '''\n",
    "        \n",
    "        df = self.game.show_rolls(True) \n",
    "        rolls_lst = []\n",
    "        counts_dct = {}\n",
    "        unique_vals = []\n",
    "        \n",
    "        # Get a list of list of values\n",
    "        for i in range(len(df)):   \n",
    "            rolls_lst.append(list(df.iloc[i,:]))\n",
    "    \n",
    "        # Get a list of all unique values, sort it\n",
    "        for x in rolls_lst:\n",
    "            for i in x:\n",
    "                if i not in unique_vals:\n",
    "                    unique_vals.append(i)\n",
    "        unique_vals.sort()\n",
    "        \n",
    "        #Iterate through each roll and count how many of each unique val, make a dict of roll counts\n",
    "        y = 1\n",
    "        for x in rolls_lst: \n",
    "            count = [0 for i in unique_vals]\n",
    "            for i in x:\n",
    "                count[unique_vals.index(i)] += 1\n",
    "            counts_dct[y] = count\n",
    "            y += 1\n",
    "            \n",
    "        # make dataframe\n",
    "        countsdf = pd.DataFrame(counts_dct).T\n",
    "        countsdf.columns = unique_vals\n",
    "        self.countsdf = countsdf\n",
    "        return self.countsdf"
   ]
  },
  {
   "cell_type": "markdown",
   "id": "32dc86ca-7d71-4f98-8568-befec77af146",
   "metadata": {
    "tags": []
   },
   "source": [
    "# Test Module:"
   ]
  },
  {
   "cell_type": "code",
   "execution_count": null,
   "id": "2b0ee1cb-fae8-41d3-ac26-a5c4744aad19",
   "metadata": {},
   "outputs": [],
   "source": [
    "import unittest\n",
    "from monte.montecarlo import *\n",
    "\n",
    "class montecarlotest(unittest.TestCase):\n",
    "    \n",
    "    # Die Class Tests\n",
    "    \n",
    "    def test_1_change_weight(self): \n",
    "        '''\n",
    "        purpose: tests change_weight function for if the correct weight was changed to the correct value \n",
    "        '''\n",
    "        testcase = die(['H', 'T'])\n",
    "        testcase.change_weight('H', 5)\n",
    "        self.assertTrue(testcase.weights == [5.0, 1.0])\n",
    "        \n",
    "    def test_1a_change_weight(self):\n",
    "        '''\n",
    "        purpose: tests change_weight funciton for if it only accepts ints/floats as the new weight values and only accepts current face as face argument\n",
    "        '''\n",
    "        testcase = die(['H', 'T'])\n",
    "        condition1 = (testcase.change_weight('H', 'hi')==('Weight must be entered as float or int'))\n",
    "        condition2 = (testcase.change_weight('L',4)==('Face does not exist on this die'))\n",
    "        self.assertTrue(condition1 and condition2)\n",
    "    \n",
    "    def test_2_roll_die(self):\n",
    "        '''\n",
    "        purpose: tests roll_die function to make sure that faces returned on roll exist and the right number of faces are returned\n",
    "        '''\n",
    "        testcase = die(['H', 'T'])\n",
    "        rolls = testcase.roll_die(5)\n",
    "        test = True\n",
    "        for each in rolls:\n",
    "            if each not in testcase.faces:\n",
    "                test = False\n",
    "        condition1 = test == True \n",
    "        condition2 = (len(rolls) == 5) \n",
    "        self.assertTrue(condition1 and condition2)\n",
    "    \n",
    "    def test_3_display(self):\n",
    "        '''\n",
    "        purpose: tests display function to see if the dataframe produced contains the correct weight values \n",
    "        '''\n",
    "        testcase = die(['H', 'T'])\n",
    "        testcase.change_weight('H', 5)\n",
    "        df = testcase.display()\n",
    "        self.assertTrue(list(df['Weight']) == testcase.weights)\n",
    "    \n",
    "    # Game Class Tests\n",
    "    \n",
    "    def test_4_play(self):\n",
    "        '''\n",
    "        purpose: tests play function to make sure that it creates a dataframe of the correct length (correct number of rolls are returned) and that the dataframe contains a number of columns equal to number of dice in game\n",
    "        '''\n",
    "        testcase = game()\n",
    "        testcase.play(100)\n",
    "        condition1 = len(testcase.__playdf__)==100\n",
    "        condition2 = len(testcase.__playdf__.columns)==len(testcase.die_list)\n",
    "        self.assertTrue(condition1 and condition2)\n",
    "    \n",
    "    def test_5_show_rolls(self):\n",
    "        '''\n",
    "        purpose: tests show_rolls function to make sure that it returns a dataframe of the correct length (correct number of rolls are returned) and that the dataframe contains a number of columns equal to number of dice in game\n",
    "        '''\n",
    "        testcase = game()\n",
    "        testcase.play(100)\n",
    "        df = testcase.show_rolls()\n",
    "        condition1 = len(df)==100\n",
    "        condition2 = len(df.columns)==len(testcase.die_list)\n",
    "        self.assertTrue(condition1 and condition2)\n",
    "    \n",
    "    # Analyzer Class Tests\n",
    "    \n",
    "    def test_6_jackpot(self):\n",
    "        '''\n",
    "        purpose: tests jackpot function to make sure it returns a the number of jackpots as equal to the length of the created jackpot dataframe\n",
    "        '''\n",
    "        game1 = game()\n",
    "        game1.play(100)\n",
    "        testcase = analyzer(game1)\n",
    "        x = testcase.jackpot()\n",
    "        self.assertTrue(x == len(testcase.jpdf))\n",
    "        \n",
    "    def test_7_sequence(self):\n",
    "        '''\n",
    "        purpose: tests sequence function to see if it returns the correctly-dimensioned dataframe for both freqeuncy mode and multiindex mode\n",
    "        '''\n",
    "        game2 = game()\n",
    "        game2.play(100)\n",
    "        testcase = analyzer(game2)\n",
    "        x = testcase.sequence()\n",
    "        condition1 = (len(testcase.sdf) == len(x))\n",
    "        condition2 = len(x.columns)== len(testcase.sdf.columns)\n",
    "        y = testcase.sequence(freq=True)\n",
    "        condition3 = (len(testcase.freq_sdf) == len(y))\n",
    "        condition4 = len(y.columns)== len(testcase.freq_sdf .columns)\n",
    "        self.assertTrue(condition1 and condition2 and condition3 and condition4) \n",
    "    \n",
    "    def test_8_combo(self):\n",
    "        '''\n",
    "        purpose: tests combo function to see if it returns the correctly-dimensioned dataframe for both freqeuncy mode and multiindex mode\n",
    "        '''\n",
    "        game3 = game()\n",
    "        game3.play(100)\n",
    "        testcase = analyzer(game3)\n",
    "        x = testcase.combo()\n",
    "        condition1 = (len(testcase.cdf) == len(x))\n",
    "        condition2 = len(x.columns)== len(testcase.cdf.columns)\n",
    "        y = testcase.combo(freq=True)\n",
    "        condition3 = (len(testcase.freq_cdf) == len(y))\n",
    "        condition4 = len(y.columns)== len(testcase.freq_cdf.columns)\n",
    "        self.assertTrue(condition1 and condition2 and condition3 and condition4) \n",
    "        \n",
    "    def test_9_counts(self):\n",
    "        '''\n",
    "        purpose: tests if the counts function returns a dataframe of the correct dimensions\n",
    "        '''\n",
    "        game4 = game()\n",
    "        game4.play(100)\n",
    "        testcase = analyzer(game4)\n",
    "        df = testcase.counts()\n",
    "        condition1 = (len(df)==100)\n",
    "        self.assertTrue(condition1)\n",
    "        \n",
    "if __name__ == '__main__':\n",
    "    \n",
    "    unittest.main(verbosity=3)\n",
    "        "
   ]
  },
  {
   "cell_type": "markdown",
   "id": "bb76b030-9056-4377-b1a4-d18930c75e85",
   "metadata": {},
   "source": [
    "# Test Results\n",
    "\n",
    "(I had to reformat to make them readable in a markdown cell but my true txt file can be found on github!)"
   ]
  },
  {
   "cell_type": "markdown",
   "id": "a3775a9c-e7d4-407c-9eb4-70f4e0d723ed",
   "metadata": {},
   "source": [
    "(base) Kates-MacBook-Air:DS5100_Final meldrumapple$ python montecarlo_test.py\n",
    "\n",
    "Welcome to montecarlo\n",
    "\n",
    "test_1_change_weight (__main__.montecarlotest)\n",
    "\n",
    "purpose: tests change_weight function for if the correct weight was changed to the correct value ... ok\n",
    "\n",
    "test_1a_change_weight (__main__.montecarlotest)\n",
    "\n",
    "purpose: tests change_weight funciton for if it only accepts ints/floats as the new weight values and only accepts current face as face argument ... ok\n",
    "\n",
    "test_2_roll_die (__main__.montecarlotest)\n",
    "\n",
    "purpose: tests roll_die function to make sure that faces returned on roll exist and the right number of faces are returned ... ok\n",
    "\n",
    "test_3_display (__main__.montecarlotest)\n",
    "\n",
    "purpose: tests display function to see if the dataframe produced contains the correct weight values ... ok\n",
    "\n",
    "test_4_play (__main__.montecarlotest)\n",
    "\n",
    "purpose: tests play function to make sure that it creates a dataframe of the correct length (correct number of rolls are returned) and \n",
    "that the dataframe contains a number of columns (equal to number of dice in game) ... ok\n",
    "\n",
    "test_5_show_rolls (__main__.montecarlotest)\n",
    "\n",
    "purpose: tests show_rolls function to make sure that it returns a dataframe of the correct length (correct number of rolls are returned) and \n",
    "that the dataframe contains a number of columns (equal to number of dice in game) ... ok\n",
    "\n",
    "test_6_jackpot (__main__.montecarlotest)\n",
    "\n",
    "purpose: tests jackpot function to make sure it returns a the number of jackpots as equal to the length of the created jackpot dataframe ... ok\n",
    "\n",
    "test_7_sequence (__main__.montecarlotest)\n",
    "\n",
    "purpose: tests sequence function to see if it returns the correctly-dimensioned dataframe for both freqeuncy mode and multiindex mode ... ok\n",
    "\n",
    "test_8_combo (__main__.montecarlotest)\n",
    "\n",
    "purpose: tests combo function to see if it returns the correctly-dimensioned dataframe for both freqeuncy mode and multiindex mode ... ok\n",
    "\n",
    "test_9_counts (__main__.montecarlotest)\n",
    "\n",
    "purpose: tests if the counts function returns a dataframe of the correct dimensions ... ok\n",
    "\n",
    "----------------------------------------------------------------------\n",
    "Ran 10 tests in 0.137s\n",
    "\n",
    "OK"
   ]
  },
  {
   "cell_type": "markdown",
   "id": "d099827b-e488-4000-bfd4-4be0afcd8cc3",
   "metadata": {},
   "source": [
    "# Montecarlo Demo\n",
    "\n",
    "**Project Requirements are bolded**"
   ]
  },
  {
   "cell_type": "code",
   "execution_count": 2,
   "id": "b89abf2c-56e6-4838-acaf-47f6fa13c297",
   "metadata": {},
   "outputs": [],
   "source": [
    "# from monte.montecarlo import *\n",
    "# import pandas as pd\n",
    "import warnings\n",
    "warnings.filterwarnings('ignore')"
   ]
  },
  {
   "cell_type": "markdown",
   "id": "6154113a-1cc2-4fee-9ed4-a0d7a4b3e7de",
   "metadata": {},
   "source": [
    "## Senario 1: 2-Sided Coin\n",
    "\n",
    "**We create a fair coin and one unfair coin, both coins have faces 'H' and 'T' and the unfair coin has a head weight of 5:**"
   ]
  },
  {
   "cell_type": "code",
   "execution_count": 3,
   "id": "ca8baa13-048e-410e-884e-06530405e7d6",
   "metadata": {},
   "outputs": [
    {
     "name": "stdout",
     "output_type": "stream",
     "text": [
      "Fair Coin:\n",
      "        Weight\n",
      "Faces        \n",
      "H         1.0\n",
      "T         1.0\n",
      " \n",
      " Unfair Coin:\n",
      "        Weight\n",
      "Faces        \n",
      "H         5.0\n",
      "T         1.0\n"
     ]
    }
   ],
   "source": [
    "fair = die(['H','T'])\n",
    "unfair = die(['H','T'])\n",
    "unfair.change_weight('H', 5)\n",
    "print(\"Fair Coin:\\n\", fair.display())\n",
    "print(\" \\n Unfair Coin:\\n\", unfair.display())"
   ]
  },
  {
   "cell_type": "markdown",
   "id": "81eea262-9dc6-4598-85af-153705bf600d",
   "metadata": {},
   "source": [
    "**We play two games of 1000 flips of all coins involved. The fair game is played with three fair dice, and the unfair game is played with two unfair dice and one fair die. The resulting rolls are displayed below:**"
   ]
  },
  {
   "cell_type": "code",
   "execution_count": 4,
   "id": "a0752b7c-b84a-43f3-9771-d2a5ab203fbf",
   "metadata": {},
   "outputs": [
    {
     "name": "stdout",
     "output_type": "stream",
     "text": [
      "Fair Game: \n",
      "      Die 1 Die 2 Die 3\n",
      "1        T     H     H\n",
      "2        H     T     T\n",
      "3        H     H     T\n",
      "4        H     T     T\n",
      "5        T     T     T\n",
      "...    ...   ...   ...\n",
      "996      H     T     T\n",
      "997      T     H     H\n",
      "998      H     T     T\n",
      "999      H     T     T\n",
      "1000     T     H     T\n",
      "\n",
      "[1000 rows x 3 columns]\n",
      "\n",
      " Unfair Game: \n",
      "      Die 1 Die 2 Die 3\n",
      "1        H     H     T\n",
      "2        H     T     T\n",
      "3        H     H     T\n",
      "4        T     H     T\n",
      "5        T     H     T\n",
      "...    ...   ...   ...\n",
      "996      H     H     H\n",
      "997      H     T     T\n",
      "998      H     H     T\n",
      "999      H     T     H\n",
      "1000     H     T     H\n",
      "\n",
      "[1000 rows x 3 columns]\n"
     ]
    }
   ],
   "source": [
    "fairgame = game([fair,fair, fair])\n",
    "unfairgame = game([unfair,unfair, fair])\n",
    "fairgame.play(1000)\n",
    "unfairgame.play(1000)\n",
    "print(\"Fair Game: \\n\", fairgame.show_rolls())\n",
    "print(\"\\n Unfair Game: \\n\", unfairgame.show_rolls())"
   ]
  },
  {
   "cell_type": "markdown",
   "id": "665368bd-1ff9-4bc2-bfd6-e9e4f99334d6",
   "metadata": {},
   "source": [
    "**We now analyze this game by finding the number of jackpots for each game and calculating realative frequency of a jackpot roll:**"
   ]
  },
  {
   "cell_type": "code",
   "execution_count": 5,
   "id": "0921aeba-dca2-493b-bff6-f14c1146d9d9",
   "metadata": {},
   "outputs": [
    {
     "name": "stdout",
     "output_type": "stream",
     "text": [
      "Fair game jackpots:  253\n",
      "Unfair game jackpots:  389\n"
     ]
    }
   ],
   "source": [
    "fairan = analyzer(fairgame)\n",
    "unfairan = analyzer(unfairgame)\n",
    "fj = fairan.jackpot()\n",
    "uj = unfairan.jackpot()\n",
    "print(\"Fair game jackpots: \", fj);\n",
    "print(\"Unfair game jackpots: \", uj);"
   ]
  },
  {
   "cell_type": "code",
   "execution_count": 6,
   "id": "7beee055-abcb-4150-81ef-0b8c29758ce9",
   "metadata": {},
   "outputs": [
    {
     "name": "stdout",
     "output_type": "stream",
     "text": [
      "Relative frequency of fair game jackpots:  0.253\n",
      "Relative frequency of unfair game jackpots:  0.389\n"
     ]
    }
   ],
   "source": [
    "print(\"Relative frequency of fair game jackpots: \", fj/1000)\n",
    "print(\"Relative frequency of unfair game jackpots: \", uj/1000)"
   ]
  },
  {
   "cell_type": "markdown",
   "id": "09faa3e2-15fc-44a7-b8d6-a288e66d1333",
   "metadata": {},
   "source": [
    "**Now we can plot these results**"
   ]
  },
  {
   "cell_type": "code",
   "execution_count": 7,
   "id": "4742f9ca-4fef-429c-ba21-f5225d3deb5c",
   "metadata": {},
   "outputs": [],
   "source": [
    "import matplotlib.pyplot as plot"
   ]
  },
  {
   "cell_type": "code",
   "execution_count": 8,
   "id": "1f88ec17-283b-4054-9a76-48bf617cbac5",
   "metadata": {},
   "outputs": [
    {
     "data": {
      "image/png": "[encoded data removed]",
      "text/plain": [
       "<Figure size 432x288 with 1 Axes>"
      ]
     },
     "metadata": {
      "needs_background": "light"
     },
     "output_type": "display_data"
    }
   ],
   "source": [
    "plot.bar([\"Fair jackpots\",\"Unfair jackpots\"],[(fj/1000), (uj/1000)])\n",
    "plot.title(\"Relative Frequency of Jackpots\");"
   ]
  },
  {
   "cell_type": "markdown",
   "id": "6f660b71-e755-4255-aec2-3e3dfc8ad246",
   "metadata": {},
   "source": [
    "## Senario 2: 6 sided die\n",
    "\n",
    "**For this senario we create 3 standard 6-sided dice, 'fair' is weighted fairly, 'unfair1' is weighted towards 6 by a factor of 5, and 'unfair2' is weighted towards 1 by a factor of 5. The weights of each die are displayed below:**"
   ]
  },
  {
   "cell_type": "code",
   "execution_count": 9,
   "id": "88832731-d986-400e-9d7b-348e5ef23af1",
   "metadata": {},
   "outputs": [
    {
     "name": "stdout",
     "output_type": "stream",
     "text": [
      "Fair: \n",
      "        Weight\n",
      "Faces        \n",
      "1         1.0\n",
      "2         1.0\n",
      "3         1.0\n",
      "4         1.0\n",
      "5         1.0\n",
      "6         1.0\n",
      "\n",
      " Unfair1: \n",
      "         Weight\n",
      "Faces        \n",
      "1         1.0\n",
      "2         1.0\n",
      "3         1.0\n",
      "4         1.0\n",
      "5         1.0\n",
      "6         5.0\n",
      "\n",
      " Unfair2: \n",
      "         Weight\n",
      "Faces        \n",
      "1         5.0\n",
      "2         1.0\n",
      "3         1.0\n",
      "4         1.0\n",
      "5         1.0\n",
      "6         1.0\n"
     ]
    }
   ],
   "source": [
    "fair = die([1,2,3,4,5,6])\n",
    "unfair1 = die([1,2,3,4,5,6])\n",
    "unfair1.change_weight(6, 5)\n",
    "unfair2 = die([1,2,3,4,5,6])\n",
    "unfair2.change_weight(1,5)\n",
    "print(\"Fair: \\n\", fair.display())\n",
    "print(\"\\n Unfair1: \\n \", unfair1.display())\n",
    "print(\"\\n Unfair2: \\n \", unfair2.display())"
   ]
  },
  {
   "cell_type": "markdown",
   "id": "9cbd6d0a-fa28-4906-87ee-f97a6bf0ad55",
   "metadata": {},
   "source": [
    "**Next we use these dice to play two games: a fair game with 6 fair dice, and an unfair game with two unfair1s, one unfair2, and two fair dice. We both sets of dice 10000 times:**"
   ]
  },
  {
   "cell_type": "code",
   "execution_count": 10,
   "id": "2ba9b7c3-6db1-466d-a28c-87033ae025a3",
   "metadata": {},
   "outputs": [
    {
     "name": "stdout",
     "output_type": "stream",
     "text": [
      "Fair game: \n",
      "        Die 1  Die 2  Die 3  Die 4  Die 5\n",
      "1          1      2      1      4      2\n",
      "2          2      3      6      1      3\n",
      "3          3      6      3      4      5\n",
      "4          4      1      4      6      4\n",
      "5          1      3      6      2      5\n",
      "...      ...    ...    ...    ...    ...\n",
      "9996       2      2      4      2      4\n",
      "9997       2      6      3      4      2\n",
      "9998       2      6      3      4      1\n",
      "9999       1      5      5      4      2\n",
      "10000      6      1      5      1      6\n",
      "\n",
      "[10000 rows x 5 columns]\n"
     ]
    }
   ],
   "source": [
    "fairgame=game([fair, fair, fair, fair, fair])\n",
    "fairgame.play(10000)\n",
    "print(\"Fair game: \\n\", fairgame.show_rolls(wide = True))"
   ]
  },
  {
   "cell_type": "code",
   "execution_count": 11,
   "id": "e1494f4b-e85e-435b-8133-d2f967b094dd",
   "metadata": {},
   "outputs": [
    {
     "name": "stdout",
     "output_type": "stream",
     "text": [
      "Unfair game: \n",
      "        Die 1  Die 2  Die 3  Die 4  Die 5\n",
      "1          3      6      1      2      3\n",
      "2          6      5      1      5      3\n",
      "3          1      2      4      4      3\n",
      "4          6      6      5      3      6\n",
      "5          6      6      1      3      3\n",
      "...      ...    ...    ...    ...    ...\n",
      "9996       5      4      1      5      4\n",
      "9997       3      5      4      6      4\n",
      "9998       6      6      1      3      2\n",
      "9999       6      6      6      3      1\n",
      "10000      6      6      1      5      6\n",
      "\n",
      "[10000 rows x 5 columns]\n"
     ]
    }
   ],
   "source": [
    "unfairgame=game([unfair1, unfair1, unfair2, fair, fair])\n",
    "unfairgame.play(10000)\n",
    "print(\"Unfair game: \\n\", unfairgame.show_rolls())"
   ]
  },
  {
   "cell_type": "markdown",
   "id": "4009657f-d266-41eb-b894-9da40b086863",
   "metadata": {},
   "source": [
    "**We again analyze the relative frequency of jackpots of the two games:**"
   ]
  },
  {
   "cell_type": "code",
   "execution_count": 12,
   "id": "bbc8e53c-e31b-4f72-a6fd-2eecc1dce07b",
   "metadata": {},
   "outputs": [],
   "source": [
    "fairanalyzer = analyzer(fairgame)\n",
    "unfairanalyzer = analyzer(unfairgame)"
   ]
  },
  {
   "cell_type": "code",
   "execution_count": 13,
   "id": "ab0f952a-e48d-4fec-bb10-427e8ddbdd5a",
   "metadata": {},
   "outputs": [
    {
     "name": "stdout",
     "output_type": "stream",
     "text": [
      "Relative frequency of fair game jackpots: 0.0009\n"
     ]
    }
   ],
   "source": [
    "fj = fairanalyzer.jackpot()\n",
    "print(\"Relative frequency of fair game jackpots:\", fj/10000)"
   ]
  },
  {
   "cell_type": "code",
   "execution_count": 14,
   "id": "f6ab5547-e946-4290-a2c0-9c3ba9bf0f03",
   "metadata": {},
   "outputs": [
    {
     "name": "stdout",
     "output_type": "stream",
     "text": [
      "Relative frequency of unfair game jackpots: 0.0012\n"
     ]
    }
   ],
   "source": [
    "uj = unfairanalyzer.jackpot()\n",
    "print(\"Relative frequency of unfair game jackpots:\", uj/10000)"
   ]
  },
  {
   "cell_type": "code",
   "execution_count": 15,
   "id": "19820142-566b-4579-a1ac-09d7288b6fcb",
   "metadata": {},
   "outputs": [
    {
     "data": {
      "image/png": "[encoded data removed]",
      "text/plain": [
       "<Figure size 432x288 with 1 Axes>"
      ]
     },
     "metadata": {
      "needs_background": "light"
     },
     "output_type": "display_data"
    }
   ],
   "source": [
    "plot.bar([\"Fair jackpots\",\"Unfair jackpots\"],[(fj/1000), (uj/1000)])\n",
    "plot.title(\"Relative Frequency of Jackpots\");"
   ]
  },
  {
   "cell_type": "markdown",
   "id": "6fc080fd-d938-46c4-b14a-80726d7d435f",
   "metadata": {},
   "source": [
    "We can use the combo and sequence functions to produce multi-index representations of the frequency of each roll combination or roll sequence:"
   ]
  },
  {
   "cell_type": "code",
   "execution_count": 16,
   "id": "6c13dc2e-9efa-423e-a8a5-23233af6e406",
   "metadata": {},
   "outputs": [
    {
     "name": "stdout",
     "output_type": "stream",
     "text": [
      "Fair game: \n",
      "            Frequency\n",
      "0 1 2 3 4           \n",
      "1 2 3 5 6        169\n",
      "      4 5        163\n",
      "        6        156\n",
      "  3 4 5 6        149\n",
      "2 3 4 5 6        145\n",
      "...              ...\n",
      "  4 4 4 4          3\n",
      "  2 2 2 2          2\n",
      "  3 3 3 3          2\n",
      "  6 6 6 6          2\n",
      "4 4 4 4 4          1\n",
      "\n",
      "[250 rows x 1 columns]                                Frequency\n",
      "Die 1 Die 2 Die 3 Die 4 Die 5           \n",
      "6     1     5     2     1              9\n",
      "1     4     5     3     2              7\n",
      "2     5     2     6     6              7\n",
      "      4     4     3     6              7\n",
      "3     5     3     4     1              7\n",
      "...                                  ...\n",
      "4     5     2     4     3              1\n",
      "2     3     5     6     3              1\n",
      "4     5     2     4     6              1\n",
      "                  5     1              1\n",
      "2     2     1     4     6              1\n",
      "\n",
      "[5637 rows x 1 columns]\n",
      "Unfair game: \n",
      "            Frequency\n",
      "0 1 2 3 4           \n",
      "1 2 4 6 6        228\n",
      "  3 4 6 6        219\n",
      "  4 5 6 6        195\n",
      "  2 3 6 6        189\n",
      "  3 5 6 6        186\n",
      "...              ...\n",
      "2 2 2 2 6          1\n",
      "3 3 5 5 5          1\n",
      "    4 4 4          1\n",
      "    3 3 3          1\n",
      "1 1 1 1 1          1\n",
      "\n",
      "[248 rows x 1 columns]                                Frequency\n",
      "Die 1 Die 2 Die 3 Die 4 Die 5           \n",
      "6     6     1     1     2             46\n",
      "                  6     6             45\n",
      "                  1     6             45\n",
      "                        3             43\n",
      "                  2     2             41\n",
      "...                                  ...\n",
      "4     6     5     2     2              1\n",
      "                  1     6              1\n",
      "                        3              1\n",
      "            4     6     5              1\n",
      "1     1     1     1     1              1\n",
      "\n",
      "[3639 rows x 1 columns]\n"
     ]
    }
   ],
   "source": [
    "print(\"Fair game: \\n\", fairanalyzer.combo(), fairanalyzer.sequence())\n",
    "print(\"Unfair game: \\n\", unfairanalyzer.combo(), unfairanalyzer.sequence())"
   ]
  },
  {
   "cell_type": "markdown",
   "id": "d90c7901-86d8-4d61-95e1-428a87cf9ae2",
   "metadata": {},
   "source": [
    "**We can also use the combo function to display the most frequent combinations with a string index that can be easily graphed:**"
   ]
  },
  {
   "cell_type": "code",
   "execution_count": 17,
   "id": "57b0b965-ee43-414e-b5e0-6ba057b8b7d0",
   "metadata": {},
   "outputs": [
    {
     "name": "stdout",
     "output_type": "stream",
     "text": [
      "Most frequent fair game rolls: \n",
      "                                                        Roll #s Total Frequency\n",
      "Combination                                                                   \n",
      "12356        [5, 22, 41, 63, 84, 166, 260, 274, 330, 346, 3...             169\n",
      "12345        [45, 46, 74, 109, 130, 162, 265, 369, 373, 411...             163\n",
      "12346        [21, 53, 66, 82, 156, 335, 399, 514, 532, 713,...             156\n",
      "13456        [182, 333, 403, 408, 445, 459, 466, 485, 652, ...             149\n",
      "23456        [43, 47, 99, 128, 147, 175, 246, 618, 677, 691...             145\n",
      "12456        [67, 181, 203, 285, 380, 427, 453, 564, 599, 6...             125\n",
      "23356        [247, 351, 464, 776, 828, 868, 881, 948, 988, ...             102\n",
      "23566        [106, 476, 530, 686, 738, 950, 1177, 1332, 135...             101\n",
      "34556        [295, 364, 450, 452, 615, 890, 966, 995, 1141,...              97\n",
      "11234        [86, 276, 553, 557, 676, 683, 807, 902, 991, 1...              96\n",
      "\n",
      " Most frequent unfair game rolls: \n",
      "                                                        Roll #s Total Frequency\n",
      "Combination                                                                   \n",
      "12466        [12, 57, 88, 101, 106, 112, 159, 241, 306, 416...             228\n",
      "13466        [59, 110, 127, 264, 333, 342, 368, 395, 460, 4...             219\n",
      "14566        [8, 56, 267, 277, 466, 516, 531, 559, 608, 723...             195\n",
      "12366        [44, 270, 307, 487, 509, 557, 623, 702, 706, 7...             189\n",
      "13566        [51, 90, 219, 245, 263, 414, 474, 616, 753, 84...             186\n",
      "12566        [135, 186, 291, 334, 373, 424, 457, 572, 633, ...             185\n",
      "13456        [69, 120, 128, 133, 257, 304, 308, 360, 379, 4...             177\n",
      "11366        [82, 94, 217, 312, 426, 556, 595, 638, 684, 69...             162\n",
      "12356        [73, 199, 269, 376, 422, 709, 729, 770, 845, 8...             159\n",
      "11266        [64, 86, 129, 140, 189, 194, 255, 259, 355, 39...             156\n"
     ]
    }
   ],
   "source": [
    "ftt=fairanalyzer.combo(freq = True).head(10)\n",
    "utt=unfairanalyzer.combo(freq = True).head(10)\n",
    "print('Most frequent fair game rolls: \\n', ftt)\n",
    "print('\\n Most frequent unfair game rolls: \\n', utt)"
   ]
  },
  {
   "cell_type": "code",
   "execution_count": 18,
   "id": "8b508ab6-850b-4bea-a97a-bf89b8f88d4a",
   "metadata": {},
   "outputs": [
    {
     "name": "stdout",
     "output_type": "stream",
     "text": [
      "Fair Die:\n"
     ]
    },
    {
     "data": {
      "image/png": "[encoded data removed]",
      "text/plain": [
       "<Figure size 432x288 with 1 Axes>"
      ]
     },
     "metadata": {
      "needs_background": "light"
     },
     "output_type": "display_data"
    }
   ],
   "source": [
    "print('Fair Die:')\n",
    "ftt.plot.bar();"
   ]
  },
  {
   "cell_type": "code",
   "execution_count": 19,
   "id": "9d0fab43-1c0c-4bec-86f7-df926c7ecf9f",
   "metadata": {},
   "outputs": [
    {
     "name": "stdout",
     "output_type": "stream",
     "text": [
      "Unfair Die:\n"
     ]
    },
    {
     "data": {
      "image/png": "[encoded data removed]",
      "text/plain": [
       "<Figure size 432x288 with 1 Axes>"
      ]
     },
     "metadata": {
      "needs_background": "light"
     },
     "output_type": "display_data"
    }
   ],
   "source": [
    "print('Unfair Die:')\n",
    "utt.plot.bar();"
   ]
  },
  {
   "cell_type": "markdown",
   "id": "be117218-9497-467e-a991-6fe7f38686d3",
   "metadata": {},
   "source": [
    "## Senario 3: Alphabet dice"
   ]
  },
  {
   "cell_type": "markdown",
   "id": "f1441c3f-d998-4ce9-971f-1f17c5f8e6ea",
   "metadata": {},
   "source": [
    "For this senario we create a die with 26 faces containing the letters of the alphabet and we weight the faces according to each letter's frequency of usage in the english language. These faces and weights are displayed below:"
   ]
  },
  {
   "cell_type": "code",
   "execution_count": 20,
   "id": "29a0c470-744c-4c33-924a-85e5e50a56df",
   "metadata": {},
   "outputs": [],
   "source": [
    "alpha = ['a', 'b', 'c', 'd', 'e', 'f', 'g', 'h', 'i', 'j', 'k', 'l', 'm', 'n', 'o', 'p', 'q', 'r', 's', 't', 'u', 'v', 'w', 'x', 'y', 'z']\n",
    "die = die(alpha)"
   ]
  },
  {
   "cell_type": "code",
   "execution_count": 21,
   "id": "753534fd-b3b6-4e67-b629-8bfbc8d72807",
   "metadata": {},
   "outputs": [
    {
     "name": "stdout",
     "output_type": "stream",
     "text": [
      "        Weight\n",
      "Faces         \n",
      "a       8.4966\n",
      "b       2.0720\n",
      "c       4.5388\n",
      "d       3.3844\n",
      "e      11.1607\n",
      "f       1.8121\n",
      "g       2.4705\n",
      "h       3.0034\n",
      "i       7.5448\n",
      "j       0.1965\n",
      "k       1.1016\n",
      "l       5.4893\n",
      "m       3.0129\n",
      "n       6.6544\n",
      "o       7.1635\n",
      "p       3.1671\n",
      "q       0.1962\n",
      "r       7.5809\n",
      "s       5.7351\n",
      "t       6.9509\n",
      "u       3.6308\n",
      "v       1.0074\n",
      "w       1.2899\n",
      "x       0.2902\n",
      "y       1.7779\n",
      "z       0.2722\n"
     ]
    }
   ],
   "source": [
    "freq = [8.4966, 2.0720, 4.5388, 3.3844, 11.1607, 1.8121, 2.4705, 3.0034, 7.5448, 0.1965, 1.1016, 5.4893, 3.0129, 6.6544, 7.1635, 3.1671, 0.1962, 7.5809, 5.7351, 6.9509, 3.6308, 1.0074, 1.2899, 0.2902, 1.7779, 0.2722]\n",
    "for i in range(0,26):\n",
    "    die.change_weight(alpha[i], freq[i])\n",
    "print(die.display())"
   ]
  },
  {
   "cell_type": "markdown",
   "id": "27aa8808-7af8-4d46-9ae4-74276b58a43b",
   "metadata": {},
   "source": [
    "We can use this die format to play a game where 5 alphabet dice are rolled 1000 times:"
   ]
  },
  {
   "cell_type": "code",
   "execution_count": 22,
   "id": "90a33ac1-9925-4457-be31-116223ee3664",
   "metadata": {},
   "outputs": [
    {
     "name": "stdout",
     "output_type": "stream",
     "text": [
      "     Die 1 Die 2 Die 3 Die 4 Die 5\n",
      "1        u     c     a     a     m\n",
      "2        o     f     u     t     e\n",
      "3        t     g     p     r     e\n",
      "4        n     c     r     s     e\n",
      "5        e     o     i     e     n\n",
      "...    ...   ...   ...   ...   ...\n",
      "996      l     l     o     b     t\n",
      "997      e     e     g     p     i\n",
      "998      w     e     s     i     m\n",
      "999      r     s     u     t     r\n",
      "1000     s     r     u     t     a\n",
      "\n",
      "[1000 rows x 5 columns]\n"
     ]
    }
   ],
   "source": [
    "game = game([die,die,die,die,die])\n",
    "game.play(1000)\n",
    "df = game.show_rolls()\n",
    "print(df)"
   ]
  },
  {
   "cell_type": "markdown",
   "id": "167707ee-25a2-4331-94d4-58a13a9d03ac",
   "metadata": {},
   "source": [
    "We can represent these rolls as counts of each possible face per roll using the counts function:"
   ]
  },
  {
   "cell_type": "code",
   "execution_count": 23,
   "id": "729ea54b-fb78-41f8-aaa6-db13ca3afe95",
   "metadata": {},
   "outputs": [
    {
     "name": "stdout",
     "output_type": "stream",
     "text": [
      "      a  b  c  d  e  f  g  h  i  j  k  l  m  n  o  p  q  r  s  t  u  v  w  x  \\\n",
      "1     2  0  1  0  0  0  0  0  0  0  0  0  1  0  0  0  0  0  0  0  1  0  0  0   \n",
      "2     0  0  0  0  1  1  0  0  0  0  0  0  0  0  1  0  0  0  0  1  1  0  0  0   \n",
      "3     0  0  0  0  1  0  1  0  0  0  0  0  0  0  0  1  0  1  0  1  0  0  0  0   \n",
      "4     0  0  1  0  1  0  0  0  0  0  0  0  0  1  0  0  0  1  1  0  0  0  0  0   \n",
      "5     0  0  0  0  2  0  0  0  1  0  0  0  0  1  1  0  0  0  0  0  0  0  0  0   \n",
      "...  .. .. .. .. .. .. .. .. .. .. .. .. .. .. .. .. .. .. .. .. .. .. .. ..   \n",
      "996   0  1  0  0  0  0  0  0  0  0  0  2  0  0  1  0  0  0  0  1  0  0  0  0   \n",
      "997   0  0  0  0  2  0  1  0  1  0  0  0  0  0  0  1  0  0  0  0  0  0  0  0   \n",
      "998   0  0  0  0  1  0  0  0  1  0  0  0  1  0  0  0  0  0  1  0  0  0  1  0   \n",
      "999   0  0  0  0  0  0  0  0  0  0  0  0  0  0  0  0  0  2  1  1  1  0  0  0   \n",
      "1000  1  0  0  0  0  0  0  0  0  0  0  0  0  0  0  0  0  1  1  1  1  0  0  0   \n",
      "\n",
      "      y  z  \n",
      "1     0  0  \n",
      "2     0  0  \n",
      "3     0  0  \n",
      "4     0  0  \n",
      "5     0  0  \n",
      "...  .. ..  \n",
      "996   0  0  \n",
      "997   0  0  \n",
      "998   0  0  \n",
      "999   0  0  \n",
      "1000  0  0  \n",
      "\n",
      "[1000 rows x 26 columns]\n"
     ]
    }
   ],
   "source": [
    "analyzer1 = analyzer(game)\n",
    "pd.set_option('display.max_columns', None)\n",
    "print(analyzer1.counts())"
   ]
  },
  {
   "cell_type": "markdown",
   "id": "eb5de761-8710-4794-bf79-4716aeafbc6e",
   "metadata": {},
   "source": [
    "**We can analyze this by iterating through each row and comparing it to the official list of 5 letter scrabble words:**"
   ]
  },
  {
   "cell_type": "code",
   "execution_count": 24,
   "id": "21ccf136-3354-4d96-ae78-f5913d569c76",
   "metadata": {},
   "outputs": [],
   "source": [
    "rolls_lst = []\n",
    "for i in range(len(df)):   \n",
    "    rolls_lst.append(''.join(list(df.iloc[i,:])))"
   ]
  },
  {
   "cell_type": "code",
   "execution_count": 25,
   "id": "418d95e9-974b-4597-9f9e-02e53b1f0f1a",
   "metadata": {},
   "outputs": [
    {
     "name": "stdout",
     "output_type": "stream",
     "text": [
      "['mania', 'stunt', 'lunes', 'lores', 'cures']\n"
     ]
    }
   ],
   "source": [
    "from scrab import scrab_words_5l\n",
    "real_words = []\n",
    "for roll in rolls_lst:\n",
    "    if roll in scrab_words_5l:\n",
    "        real_words.append(roll)\n",
    "print(real_words)"
   ]
  },
  {
   "cell_type": "markdown",
   "id": "e3e34199-97e3-4829-a61d-f4a7a207a6a7",
   "metadata": {},
   "source": [
    "**Now that we have found how many real words were created we can find the relative frequency of real words created by rolling 5 alphabet dice:**"
   ]
  },
  {
   "cell_type": "code",
   "execution_count": 26,
   "id": "98ba88a3-401a-4ae4-a3fb-33f125dfaa8f",
   "metadata": {},
   "outputs": [
    {
     "name": "stdout",
     "output_type": "stream",
     "text": [
      "Relative Frequency:  0.005\n"
     ]
    }
   ],
   "source": [
    "print(\"Relative Frequency: \", len(real_words)/1000)"
   ]
  },
  {
   "cell_type": "markdown",
   "id": "504b32b7-4683-458d-8a8c-032d45e20905",
   "metadata": {},
   "source": [
    "# Directory Listing"
   ]
  },
  {
   "cell_type": "code",
   "execution_count": 27,
   "id": "ef529dce-da0a-487a-8361-136f52efa84c",
   "metadata": {},
   "outputs": [],
   "source": [
    "import os\n",
    "os.chdir('/Users/meldrumapple/Desktop/DS5100/DS5100_Final')"
   ]
  },
  {
   "cell_type": "code",
   "execution_count": 28,
   "id": "f8d5cffa-a5dc-4a30-b216-c2b0a53ce380",
   "metadata": {},
   "outputs": [
    {
     "name": "stdout",
     "output_type": "stream",
     "text": [
      "total 512\n",
      "-rw-r--r--  1 meldrumapple  staff   1071 Jul 12 18:33 LICENSE.md\n",
      "-rw-r--r--  1 meldrumapple  staff   7989 Jul 14 10:50 README.md\n",
      "drwxr-xr-x  4 meldrumapple  staff    128 Jul 13 22:10 \u001b[34m__pycache__\u001b[m\u001b[m/\n",
      "-rw-r--r--  1 meldrumapple  staff  16871 Jul 12 18:33 classes_scratch.ipynb\n",
      "-rw-r--r--  1 meldrumapple  staff  86478 Jul 14 11:06 final-project-submission.ipynb\n",
      "drwxr-xr-x  7 meldrumapple  staff    224 Jul 13 22:10 \u001b[34mmonte\u001b[m\u001b[m/\n",
      "drwxr-xr-x  6 meldrumapple  staff    192 Jul 14 09:42 \u001b[34mmonte.egg-info\u001b[m\u001b[m/\n",
      "-rw-r--r--  1 meldrumapple  staff  82875 Jul 14 09:24 montecarlo_demo.ipynb\n",
      "-rw-r--r--  1 meldrumapple  staff   2304 Jul 14 10:52 montecarlo_test.py\n",
      "-rw-r--r--  1 meldrumapple  staff    608 Jul 12 18:30 montecarlo_test_results.txt\n",
      "-rw-r--r--  1 meldrumapple  staff    114 Jul 12 18:33 scrab.py\n",
      "-rw-r--r--  1 meldrumapple  staff    315 Jul 14 09:42 setup.py\n",
      "-rw-r--r--  1 meldrumapple  staff  34542 Jul 12 18:33 sgb-words.txt\n",
      "\n",
      "./__pycache__:\n",
      "total 32\n",
      "-rw-r--r--  1 meldrumapple  staff  9608 Jul 12 18:33 montecarlo.cpython-39.pyc\n",
      "-rw-r--r--  1 meldrumapple  staff   275 Jul 13 22:10 scrab.cpython-39.pyc\n",
      "\n",
      "./monte:\n",
      "total 32\n",
      "-rw-r--r--  1 meldrumapple  staff    31 Jul 13 09:06 __init__.py\n",
      "drwxr-xr-x  4 meldrumapple  staff   128 Jul 13 22:10 \u001b[34m__pycache__\u001b[m\u001b[m/\n",
      "-rw-r--r--  1 meldrumapple  staff  9695 Jul 13 09:44 montecarlo.py\n",
      "\n",
      "./monte/__pycache__:\n",
      "total 24\n",
      "-rw-r--r--  1 meldrumapple  staff   191 Jul 13 22:10 __init__.cpython-39.pyc\n",
      "-rw-r--r--  1 meldrumapple  staff  7990 Jul 13 22:10 montecarlo.cpython-39.pyc\n",
      "\n",
      "./monte.egg-info:\n",
      "total 32\n",
      "-rw-r--r--  1 meldrumapple  staff  259 Jul 14 09:42 PKG-INFO\n",
      "-rw-r--r--  1 meldrumapple  staff  183 Jul 14 09:42 SOURCES.txt\n",
      "-rw-r--r--  1 meldrumapple  staff    1 Jul 14 09:42 dependency_links.txt\n",
      "-rw-r--r--  1 meldrumapple  staff    6 Jul 14 09:42 top_level.txt\n"
     ]
    }
   ],
   "source": [
    "ls-lR"
   ]
  },
  {
   "cell_type": "markdown",
   "id": "d6ce0057-20b7-4ff0-a2a2-06cb846a5e77",
   "metadata": {},
   "source": [
    "# Installation Output Listing"
   ]
  },
  {
   "cell_type": "markdown",
   "id": "b24075c5-045b-4435-9c9b-3b11826d91bf",
   "metadata": {},
   "source": [
    "Command line code to install my package successfully:"
   ]
  },
  {
   "cell_type": "code",
   "execution_count": null,
   "id": "4d90138a-bdf1-4769-8ee7-8bd62278884a",
   "metadata": {},
   "outputs": [],
   "source": [
    "(base) Kates-MacBook-Air:DS5100_Final meldrumapple$ pip install -e .\n",
    "\n",
    "Obtaining file:///Users/meldrumapple/Desktop/DS5100/DS5100_Final\n",
    "\n",
    "Installing collected packages: monte\n",
    "\n",
    "     Running setup.py develop for monte\n",
    "  \n",
    "Successfully installed monte-0.1"
   ]
  },
  {
   "cell_type": "markdown",
   "id": "06446af0-9e08-402b-a5d7-f4a4095f0a2e",
   "metadata": {},
   "source": [
    "The contents of my py installation test file located within my RA repository:"
   ]
  },
  {
   "cell_type": "code",
   "execution_count": null,
   "id": "d806b5b1-b9bc-40e8-a2bb-1efd7ad9fc44",
   "metadata": {},
   "outputs": [],
   "source": [
    "from monte.montecarlo import *\n",
    "    die1 = die([1,2,3])\n",
    "    print(die1.display())"
   ]
  },
  {
   "cell_type": "markdown",
   "id": "f67629e1-421a-4af3-ac9a-8c8654d9eef2",
   "metadata": {},
   "source": [
    "Running said test file:"
   ]
  },
  {
   "cell_type": "code",
   "execution_count": 31,
   "id": "5394484e-ce4b-4486-92af-6444fbefda69",
   "metadata": {},
   "outputs": [
    {
     "name": "stdout",
     "output_type": "stream",
     "text": [
      "Welcome to montecarlo\n",
      "       Weight\n",
      "Faces        \n",
      "1         1.0\n",
      "2         1.0\n",
      "3         1.0\n"
     ]
    }
   ],
   "source": [
    "import os\n",
    "os.chdir('/Users/meldrumapple/Desktop/DS5100/DS5100-2022-06-RA')\n",
    "!python final_install_test.py"
   ]
  }
 ],
 "metadata": {
  "kernelspec": {
   "display_name": "Python 3 (ipykernel)",
   "language": "python",
   "name": "python3"
  },
  "language_info": {
   "codemirror_mode": {
    "name": "ipython",
    "version": 3
   },
   "file_extension": ".py",
   "mimetype": "text/x-python",
   "name": "python",
   "nbconvert_exporter": "python",
   "pygments_lexer": "ipython3",
   "version": "3.9.12"
  }
 },
 "nbformat": 4,
 "nbformat_minor": 5
}
