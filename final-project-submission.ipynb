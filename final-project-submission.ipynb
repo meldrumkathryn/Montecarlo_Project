{
 "cells": [
  {
   "cell_type": "markdown",
   "id": "1d555843-4a08-4d5a-b8e7-38a667574230",
   "metadata": {},
   "source": [
    "# Final Project Submission"
   ]
  },
  {
   "cell_type": "markdown",
   "id": "6adbb68f-c18d-4a23-b420-6b17f5b23366",
   "metadata": {},
   "source": [
    "# Metadata"
   ]
  },
  {
   "cell_type": "markdown",
   "id": "4a2fc180-25c4-4614-997d-da39b1098b05",
   "metadata": {},
   "source": [
    "Final project for DS5100"
   ]
  },
  {
   "cell_type": "markdown",
   "id": "d98134bc-1ff7-48d7-8d9c-869a59e15e80",
   "metadata": {},
   "source": [
    "7/15/22"
   ]
  },
  {
   "cell_type": "markdown",
   "id": "3be2b0a3-2797-4404-94d6-8b0e8eba549c",
   "metadata": {},
   "source": [
    "Kate Meldrum"
   ]
  },
  {
   "cell_type": "markdown",
   "id": "7420ffc1-6652-4aa7-b9e3-92adb9497bce",
   "metadata": {},
   "source": [
    "kmm4ap"
   ]
  },
  {
   "cell_type": "markdown",
   "id": "0a65e3be-802b-4b3e-8d5e-b2d41dca9228",
   "metadata": {},
   "source": [
    "Notebook URL:"
   ]
  },
  {
   "cell_type": "markdown",
   "id": "213c6f52-8186-4803-b7b4-b14fcbcb9b34",
   "metadata": {},
   "source": [
    "Project repo url:"
   ]
  },
  {
   "cell_type": "markdown",
   "id": "6aa65f5f-f659-4cd1-a09a-bc82faf7468f",
   "metadata": {},
   "source": [
    "# Montecarlo Module:"
   ]
  },
  {
   "cell_type": "code",
   "execution_count": 2,
   "id": "d222aaf6-6d84-4ff6-8df5-d1dc7f764aa1",
   "metadata": {},
   "outputs": [],
   "source": [
    "import numpy as np\n",
    "import pandas as pd\n",
    "import random\n",
    "\n",
    "\n",
    "# Shortcuts:\n",
    "\n",
    "six_faces = [1, 2, 3, 4, 5, 6]\n",
    "\n",
    "\n",
    "class die:\n",
    "    \n",
    "    '''\n",
    "    A die has N sides, or “faces”, and W weights, and can be rolled to select a face\n",
    "    '''\n",
    "    \n",
    "    def __init__(self,faces):\n",
    "        \n",
    "        '''\n",
    "        purpose: create instance of class die\n",
    "        param: <array> of faces on die\n",
    "        return: None\n",
    "        '''\n",
    "        \n",
    "        weights = [1.0 for x in faces] # Create default weights\n",
    "        \n",
    "        #die attributes\n",
    "        self.faces = faces\n",
    "        self.weights = weights\n",
    "        self.__fwdf__ = pd.DataFrame(self.weights, index=self.faces)\n",
    "        self.__fwdf__.columns = ['Weight']\n",
    "        self.__fwdf__.index.name = 'Faces'\n",
    "        \n",
    "    def change_weight(self, face, weight):\n",
    "        \n",
    "        '''\n",
    "        purpose: change weight given to a face of die in roll\n",
    "        param1: <string, int, float> face to weight\n",
    "        param2: <int or float> weight to be given to face \n",
    "        return: None\n",
    "        '''\n",
    "        \n",
    "        # must be existing face and numeric weight\n",
    "        if face in self.faces: \n",
    "            if type(weight)==float or type(weight)==int:\n",
    "                i = self.faces.index(face)\n",
    "                self.weights[i] = float(weight)\n",
    "                self.__fwdf__ = pd.DataFrame(self.weights, index=self.faces)\n",
    "                self.__fwdf__.columns = ['Weight']\n",
    "                self.__fwdf__.index.name = 'Faces'\n",
    "            else:\n",
    "                print('Weight must be entered as float or int')\n",
    "        else: \n",
    "            print('Face does not exist on this die')\n",
    "            \n",
    "    def roll_die(self, rolls=1):\n",
    "        \n",
    "        '''\n",
    "        purpose: return a random face of die with condiseration to weights\n",
    "        param: <int >number of rolls \n",
    "        return: <list> face values\n",
    "        '''\n",
    "        \n",
    "        # random.choices pulls sample with replacement\n",
    "        return random.choices(self.faces, weights=self.weights, k=rolls)\n",
    "    \n",
    "    def display(self):\n",
    "        \n",
    "        '''\n",
    "        purpose: user can see faces and weights of die instance\n",
    "        return: dataframe\n",
    "        '''\n",
    "        \n",
    "        # allows users to access private face weight dataframe\n",
    "        return self.__fwdf__\n",
    "\n",
    "\n",
    "class game: \n",
    "    \n",
    "    '''\n",
    "    A game consists of rolling of one or more dice of the same list of faces one or more times\n",
    "    '''\n",
    "    \n",
    "    # Default dice\n",
    "    die1 = die(six_faces)\n",
    "    die2 = die(six_faces)\n",
    "    die3 = die(six_faces)\n",
    "    die4 = die(six_faces)\n",
    "    die5 = die(six_faces)\n",
    "    die6 = die(six_faces)\n",
    "    die_list = [die1,die2,die3,die4,die5,die6]\n",
    "    \n",
    "    __playdf__ = pd.DataFrame()# Empty data frame to be filled with game results and global amongst functions\n",
    "    \n",
    "    def __init__(self, die_list=die_list, __playdf__=__playdf__):\n",
    "        \n",
    "        '''\n",
    "        purpose: create and isntance of a game\n",
    "        param: <list of class die> , must have same number of faces\n",
    "        return: None\n",
    "        '''\n",
    "        \n",
    "        #attributes\n",
    "        for die in die_list:\n",
    "            self.die=die\n",
    "        self.die_list=die_list\n",
    "        self.__playdf__=__playdf__\n",
    "        \n",
    "    def play(self, n=100):\n",
    "        \n",
    "        '''\n",
    "        purpose: roll each die in game a number of times and imput face values into global dataframe\n",
    "        param: <int> number of rolls\n",
    "        return: None\n",
    "        '''\n",
    "        \n",
    "        #for each die, roll a certain amount of times and add to dictionary, create private dataframe when all dice have been rolled\n",
    "        data = {}\n",
    "        count=1\n",
    "        for die in self.die_list:\n",
    "            data[\"Die \"+str(count)] = [die.roll_die()[0] for i in range(n)]\n",
    "            count+=1\n",
    "        self.__playdf__ = pd.DataFrame(data, index = range(1, n+1))\n",
    "    \n",
    "    def show_rolls(self, wide=True):\n",
    "        \n",
    "        '''\n",
    "        purpose: display results of play function to user\n",
    "        param: <bool> indicating wide or narrow, defaults to wide\n",
    "        return: dataframe \n",
    "        '''\n",
    "        \n",
    "        # allow user to access private play dataframe\n",
    "        if wide==True: \n",
    "            return self.__playdf__\n",
    "        if wide == False:\n",
    "            return self.__playdf__.stack()\n",
    "        else:\n",
    "            print('Expected argument: True or False')\n",
    "\n",
    "\n",
    "class analyzer:\n",
    "    '''\n",
    "    takes the results of a single game and computes various descriptive statistical properties about it\n",
    "    '''\n",
    "    \n",
    "    game = game()\n",
    "    game.play()\n",
    "    \n",
    "    \n",
    "    def __init__(self, game=game): \n",
    "        '''\n",
    "        purpose: create and instance of analyzer class\n",
    "        param: instance of class game\n",
    "        return: None\n",
    "        '''\n",
    "        \n",
    "        #attributes\n",
    "        self.game = game\n",
    "        self.data_type = type(game.show_rolls().iloc[1,1])\n",
    "        self.jpdf = pd.DataFrame()\n",
    "                              \n",
    "    def jackpot(self):\n",
    "        '''\n",
    "        purpose: counts the number of rolls in game all dices showed an identical face\n",
    "        return: <int> number of occurances\n",
    "        '''\n",
    "        \n",
    "        #creates public dataframe, returns length\n",
    "        df = self.game.show_rolls(True)\n",
    "        rolls_lst = []\n",
    "        count = 1\n",
    "        for i in range(len(df)):\n",
    "            rolls_lst.append(list(df.iloc[i,:]))\n",
    "        for roll in rolls_lst:\n",
    "            if len(set(roll))==1:\n",
    "                self.jpdf[count]=roll\n",
    "            count += 1\n",
    "        self.jpdf = self.jpdf.T\n",
    "        self.jpdf.index.name = 'Roll #'\n",
    "        return len(self.jpdf)\n",
    "    \n",
    "    def sequence(self, freq=False):\n",
    "        \n",
    "        '''\n",
    "        purpose: method to compute the number of distinct sequences of faces rolled\n",
    "        param: freq = True/False to sort by frequency or not\n",
    "        return: dataframe\n",
    "        '''\n",
    "        \n",
    "        df = self.game.show_rolls(True) \n",
    "        rolls_lst = []\n",
    "        \n",
    "        # Get a list of list of row values\n",
    "        for i in range(len(df)):   \n",
    "            rolls_lst.append(list(df.iloc[i,:]))\n",
    "        \n",
    "        # Create frequency sorted dataframe    \n",
    "        if freq == True:\n",
    "            rolls_dict = {}\n",
    "            count = 1\n",
    "            for roll in rolls_lst:\n",
    "                roll = ''.join([str(i) for i in roll])\n",
    "                if roll in rolls_dict:\n",
    "                    rolls_dict[roll][0].append(count)\n",
    "                    rolls_dict[roll][1] += 1\n",
    "                if roll not in rolls_dict:\n",
    "                    rolls_dict[roll] = [[count], 1]\n",
    "                count += 1\n",
    "\n",
    "            freq_sdf = pd.DataFrame(rolls_dict).T\n",
    "            freq_sdf.columns = ['Roll #s', 'Total Frequency']\n",
    "            freq_sdf.index.name = 'Sequences'\n",
    "            freq_sdf = freq_sdf.sort_values(by = ['Total Frequency'], ascending = False)\n",
    "            self.freq_sdf = freq_sdf \n",
    "            return self.freq_sdf\n",
    "        \n",
    "        # Sequence sorted dataframe with multi-index\n",
    "        if freq == False: \n",
    "            sdf = pd.DataFrame(df.value_counts())\n",
    "            sdf.columns=['Frequency']\n",
    "            sdf.index.name = 'Face Values'\n",
    "            self.sdf = sdf\n",
    "            return sdf\n",
    "        \n",
    "    def combo(self, freq = False):\n",
    "        \n",
    "        '''\n",
    "        purpose: method to compute a dataframe of distinct combinations of faces rolled\n",
    "        param: freq = True/False to sort by frequency or not\n",
    "        return: dataframe\n",
    "        ''' \n",
    "        \n",
    "        df = self.game.show_rolls(True) \n",
    "        rolls_lst = []\n",
    "        \n",
    "        # Get a list of list of values\n",
    "        for i in range(len(df)):   \n",
    "            rolls_lst.append(list(df.iloc[i,:]))\n",
    "        \n",
    "        # Create frequency sorted dataframe\n",
    "        if freq ==True:\n",
    "            rolls_dict = {}\n",
    "            count = 1\n",
    "            for roll in rolls_lst:\n",
    "                roll = ''.join([str(i) for i in sorted(roll)])\n",
    "                if roll in rolls_dict:\n",
    "                    rolls_dict[roll][0].append(count)\n",
    "                    rolls_dict[roll][1] += 1\n",
    "                if roll not in rolls_dict:\n",
    "                    rolls_dict[roll] = [[count], 1]\n",
    "                count += 1\n",
    "        \n",
    "            freq_cdf = pd.DataFrame(rolls_dict).T\n",
    "            freq_cdf.columns = ['Roll #s', 'Total Frequency']\n",
    "            freq_cdf.index.name = 'Combination'\n",
    "            freq_cdf = freq_cdf.sort_values(by = ['Total Frequency'], ascending = False)\n",
    "            self.freq_cdf = freq_cdf\n",
    "            return self.freq_cdf\n",
    "        \n",
    "        # combo-sorted dataframe with multi-index\n",
    "        if freq == False: \n",
    "            dct = {}\n",
    "            for i in range(len(rolls_lst)):\n",
    "                dct[i+1] = sorted(rolls_lst[i])\n",
    "            dfsorted = pd.DataFrame(dct).T\n",
    "            cdf = pd.DataFrame(dfsorted.value_counts())\n",
    "            cdf.columns=['Frequency']\n",
    "            cdf.index.name = 'Face Values'\n",
    "            self.cdf = cdf\n",
    "            return cdf\n",
    "            \n",
    "        \n",
    "    def counts(self):\n",
    "        \n",
    "        '''\n",
    "        purpose: method to compute how many times a given face is rolled in each event\n",
    "        return: dataframe\n",
    "        '''\n",
    "        \n",
    "        df = self.game.show_rolls(True) \n",
    "        rolls_lst = []\n",
    "        counts_dct = {}\n",
    "        unique_vals = []\n",
    "        \n",
    "        # Get a list of list of values\n",
    "        for i in range(len(df)):   \n",
    "            rolls_lst.append(list(df.iloc[i,:]))\n",
    "    \n",
    "        # Get a list of all unique values, sort it\n",
    "        for x in rolls_lst:\n",
    "            for i in x:\n",
    "                if i not in unique_vals:\n",
    "                    unique_vals.append(i)\n",
    "        unique_vals.sort()\n",
    "        \n",
    "        #Iterate through each roll and count how many of each unique val, make a dict of roll counts\n",
    "        y = 1\n",
    "        for x in rolls_lst: \n",
    "            count = [0 for i in unique_vals]\n",
    "            for i in x:\n",
    "                count[unique_vals.index(i)] += 1\n",
    "            counts_dct[y] = count\n",
    "            y += 1\n",
    "            \n",
    "        # make dataframe\n",
    "        countsdf = pd.DataFrame(counts_dct).T\n",
    "        countsdf.columns = unique_vals\n",
    "        self.countsdf = countsdf\n",
    "        return self.countsdf"
   ]
  },
  {
   "cell_type": "markdown",
   "id": "32dc86ca-7d71-4f98-8568-befec77af146",
   "metadata": {},
   "source": [
    "# Test Module:"
   ]
  },
  {
   "cell_type": "raw",
   "id": "b9d4b916-e6cb-4acb-82ea-18134e32c0c3",
   "metadata": {},
   "source": [
    "import unittest\n",
    "from montecarlo import *\n",
    "\n",
    "class montecarlotest(unittest.TestCase):\n",
    "    \n",
    "    # Die Class Tests\n",
    "    \n",
    "    def test_1_change_weight(self): \n",
    "        testcase = die(['H', 'T'])\n",
    "        testcase.change_weight('H', 5)\n",
    "        self.assertTrue(testcase.weights == [5.0, 1.0])\n",
    "    \n",
    "    def test_2_roll_die(self):\n",
    "        testcase = die(['H', 'T'])\n",
    "        rolls = testcase.roll_die(5)\n",
    "        test = True\n",
    "        for each in rolls:\n",
    "            if each not in testcase.faces:\n",
    "                test = False\n",
    "        condition1 = test == True \n",
    "        condition2 = (len(rolls) == 5) \n",
    "        self.assertTrue(condition1 and condition2)\n",
    "    \n",
    "    def test_3_display(self):\n",
    "        testcase = die(['H', 'T'])\n",
    "        testcase.change_weight('H', 5)\n",
    "        df = testcase.display()\n",
    "        self.assertTrue(list(df['Weight']) == testcase.weights)\n",
    "    \n",
    "    # Game Class Tests\n",
    "    \n",
    "    def test_4_play(self):\n",
    "        testcase = game()\n",
    "        testcase.play(100)\n",
    "        self.assertTrue(len(testcase.__playdf__)==100)\n",
    "    \n",
    "    def test_5_show_rolls(self):\n",
    "        testcase = game()\n",
    "        testcase.play(100)\n",
    "        df = testcase.show_rolls()\n",
    "        self.assertTrue(len(df)==100)\n",
    "    \n",
    "    # Analyzer Class Tests\n",
    "    \n",
    "    def test_6_jackpot(self):\n",
    "        game1 = game()\n",
    "        game1.play(100)\n",
    "        testcase = analyzer(game1)\n",
    "        x = testcase.jackpot()\n",
    "        self.assertTrue(x == len(testcase.jpdf))\n",
    "        \n",
    "    def test_7_sequence(self):\n",
    "        game2 = game()\n",
    "        game2.play(100)\n",
    "        testcase = analyzer(game2)\n",
    "        x = testcase.sequence()\n",
    "        condition1 = (len(testcase.sdf) == len(x))\n",
    "        condition2 = len(x) <= 100\n",
    "        self.assertTrue(condition1 and condition2) \n",
    "        \n",
    "    def test_8_combo(self):\n",
    "        game3 = game()\n",
    "        game3.play(100)\n",
    "        testcase = analyzer(game3)\n",
    "        x = testcase.combo()\n",
    "        condition1 = (len(testcase.cdf) == len(x))\n",
    "        condition2 = len(x) <= 100\n",
    "        self.assertTrue(condition1 and condition2)  \n",
    "        \n",
    "    def test_9_counts(self):\n",
    "        game4 = game()\n",
    "        game4.play(100)\n",
    "        testcase = analyzer(game4)\n",
    "        df = testcase.counts()\n",
    "        self.assertTrue(len(df)==100)\n",
    "        \n",
    "if __name__ == '__main__':\n",
    "    \n",
    "    unittest.main(verbosity=3)\n",
    "        "
   ]
  },
  {
   "cell_type": "markdown",
   "id": "bb76b030-9056-4377-b1a4-d18930c75e85",
   "metadata": {},
   "source": [
    "# Test Results"
   ]
  },
  {
   "cell_type": "raw",
   "id": "627c5deb-e818-40bb-89cb-d18e7b16e107",
   "metadata": {},
   "source": [
    "(base) Kates-MacBook-Air:DS5100_Final meldrumapple$ python montecarlo_test.py\n",
    "test_1_change_weight (__main__.montecarlotest) ... ok\n",
    "test_2_roll_die (__main__.montecarlotest) ... ok\n",
    "test_3_display (__main__.montecarlotest) ... ok\n",
    "test_4_play (__main__.montecarlotest) ... ok\n",
    "test_5_show_rolls (__main__.montecarlotest) ... ok\n",
    "test_6_jackpot (__main__.montecarlotest) ... ok\n",
    "test_7_sequence (__main__.montecarlotest) ... ok\n",
    "test_8_combo (__main__.montecarlotest) ... ok\n",
    "test_9_counts (__main__.montecarlotest) ... ok\n",
    "\n",
    "----------------------------------------------------------------------\n",
    "Ran 9 tests in 0.086s"
   ]
  },
  {
   "cell_type": "markdown",
   "id": "d099827b-e488-4000-bfd4-4be0afcd8cc3",
   "metadata": {},
   "source": [
    "# Montecarlo Demo\n",
    "\n",
    "** All non-project requirements are marked like this"
   ]
  },
  {
   "cell_type": "code",
   "execution_count": 5,
   "id": "b89abf2c-56e6-4838-acaf-47f6fa13c297",
   "metadata": {},
   "outputs": [],
   "source": [
    "# from montecarlo import *\n",
    "# import pandas as pd\n",
    "import warnings\n",
    "warnings.filterwarnings('ignore')"
   ]
  },
  {
   "cell_type": "markdown",
   "id": "6154113a-1cc2-4fee-9ed4-a0d7a4b3e7de",
   "metadata": {},
   "source": [
    "## Senario 1: 2-Sided Coin\n",
    "\n",
    "We create a fair coin and one unfair coin, both coins have faces 'H' and 'T' and the unfair coin has a head weight of 5:"
   ]
  },
  {
   "cell_type": "code",
   "execution_count": 6,
   "id": "ca8baa13-048e-410e-884e-06530405e7d6",
   "metadata": {},
   "outputs": [
    {
     "name": "stdout",
     "output_type": "stream",
     "text": [
      "Fair Coin:\n",
      "        Weight\n",
      "Faces        \n",
      "H         1.0\n",
      "T         1.0\n",
      " \n",
      " Unfair Coin:\n",
      "        Weight\n",
      "Faces        \n",
      "H         5.0\n",
      "T         1.0\n"
     ]
    }
   ],
   "source": [
    "fair = die(['H','T'])\n",
    "unfair = die(['H','T'])\n",
    "unfair.change_weight('H', 5)\n",
    "print(\"Fair Coin:\\n\", fair.display())\n",
    "print(\" \\n Unfair Coin:\\n\", unfair.display())"
   ]
  },
  {
   "cell_type": "markdown",
   "id": "81eea262-9dc6-4598-85af-153705bf600d",
   "metadata": {},
   "source": [
    "We play two games of 1000 flips of all coins involved. The fair game is played with three fair dice, and the unfair game is played with two unfair dice and one fair die. The resulting rolls are displayed below:"
   ]
  },
  {
   "cell_type": "code",
   "execution_count": 7,
   "id": "a0752b7c-b84a-43f3-9771-d2a5ab203fbf",
   "metadata": {},
   "outputs": [
    {
     "name": "stdout",
     "output_type": "stream",
     "text": [
      "Fair Game: \n",
      "      Die 1 Die 2 Die 3\n",
      "1        H     H     H\n",
      "2        T     H     H\n",
      "3        H     H     H\n",
      "4        H     H     T\n",
      "5        H     T     T\n",
      "...    ...   ...   ...\n",
      "996      T     H     H\n",
      "997      H     H     H\n",
      "998      H     T     T\n",
      "999      T     T     H\n",
      "1000     T     H     H\n",
      "\n",
      "[1000 rows x 3 columns]\n",
      "\n",
      " Unfair Game: \n",
      "      Die 1 Die 2 Die 3\n",
      "1        H     H     T\n",
      "2        H     H     H\n",
      "3        H     H     T\n",
      "4        H     H     T\n",
      "5        H     H     T\n",
      "...    ...   ...   ...\n",
      "996      H     H     T\n",
      "997      H     H     H\n",
      "998      H     T     T\n",
      "999      H     H     T\n",
      "1000     H     H     T\n",
      "\n",
      "[1000 rows x 3 columns]\n"
     ]
    }
   ],
   "source": [
    "fairgame = game([fair,fair, fair])\n",
    "unfairgame = game([unfair,unfair, fair])\n",
    "fairgame.play(1000)\n",
    "unfairgame.play(1000)\n",
    "print(\"Fair Game: \\n\", fairgame.show_rolls())\n",
    "print(\"\\n Unfair Game: \\n\", unfairgame.show_rolls())"
   ]
  },
  {
   "cell_type": "markdown",
   "id": "665368bd-1ff9-4bc2-bfd6-e9e4f99334d6",
   "metadata": {},
   "source": [
    "We now analyze this game by finding the number of jackpots for each game and calculating realative frequency of a jackpot roll:"
   ]
  },
  {
   "cell_type": "code",
   "execution_count": 8,
   "id": "0921aeba-dca2-493b-bff6-f14c1146d9d9",
   "metadata": {},
   "outputs": [
    {
     "name": "stdout",
     "output_type": "stream",
     "text": [
      "Fair game jackpots:  245\n",
      "Unfair game jackpots:  362\n"
     ]
    }
   ],
   "source": [
    "fairan = analyzer(fairgame)\n",
    "unfairan = analyzer(unfairgame)\n",
    "fj = fairan.jackpot()\n",
    "uj = unfairan.jackpot()\n",
    "print(\"Fair game jackpots: \", fj);\n",
    "print(\"Unfair game jackpots: \", uj);"
   ]
  },
  {
   "cell_type": "code",
   "execution_count": 9,
   "id": "7beee055-abcb-4150-81ef-0b8c29758ce9",
   "metadata": {},
   "outputs": [
    {
     "name": "stdout",
     "output_type": "stream",
     "text": [
      "Relative frequency of fair game jackpots:  0.245\n",
      "Relative frequency of unfair game jackpots:  0.362\n"
     ]
    }
   ],
   "source": [
    "print(\"Relative frequency of fair game jackpots: \", fj/1000)\n",
    "print(\"Relative frequency of unfair game jackpots: \", uj/1000)"
   ]
  },
  {
   "cell_type": "markdown",
   "id": "09faa3e2-15fc-44a7-b8d6-a288e66d1333",
   "metadata": {},
   "source": [
    "Now we can plot these results"
   ]
  },
  {
   "cell_type": "code",
   "execution_count": 10,
   "id": "4742f9ca-4fef-429c-ba21-f5225d3deb5c",
   "metadata": {},
   "outputs": [],
   "source": [
    "import matplotlib.pyplot as plot"
   ]
  },
  {
   "cell_type": "code",
   "execution_count": 11,
   "id": "1f88ec17-283b-4054-9a76-48bf617cbac5",
   "metadata": {},
   "outputs": [
    {
     "data": {
      "image/png": "[encoded data removed]",
      "text/plain": [
       "<Figure size 432x288 with 1 Axes>"
      ]
     },
     "metadata": {
      "needs_background": "light"
     },
     "output_type": "display_data"
    }
   ],
   "source": [
    "plot.bar([\"Fair jackpots\",\"Unfair jackpots\"],[(fj/1000), (uj/1000)])\n",
    "plot.title(\"Relative Frequency of Jackpots\");"
   ]
  },
  {
   "cell_type": "markdown",
   "id": "6f660b71-e755-4255-aec2-3e3dfc8ad246",
   "metadata": {},
   "source": [
    "## Senario 2: 6 sided die\n",
    "\n",
    "For this senario we create 3 standard 6-sided dice, 'fair' is weighted fairly, 'unfair1' is weighted towards 6 by a factor of 5, and 'unfair2' is weighted towards 1 by a factor of 5. The weights of each die are displayed below:"
   ]
  },
  {
   "cell_type": "code",
   "execution_count": 12,
   "id": "88832731-d986-400e-9d7b-348e5ef23af1",
   "metadata": {},
   "outputs": [
    {
     "name": "stdout",
     "output_type": "stream",
     "text": [
      "Fair: \n",
      "        Weight\n",
      "Faces        \n",
      "1         1.0\n",
      "2         1.0\n",
      "3         1.0\n",
      "4         1.0\n",
      "5         1.0\n",
      "6         1.0\n",
      "\n",
      " Unfair1: \n",
      "         Weight\n",
      "Faces        \n",
      "1         1.0\n",
      "2         1.0\n",
      "3         1.0\n",
      "4         1.0\n",
      "5         1.0\n",
      "6         5.0\n",
      "\n",
      " Unfair2: \n",
      "         Weight\n",
      "Faces        \n",
      "1         5.0\n",
      "2         1.0\n",
      "3         1.0\n",
      "4         1.0\n",
      "5         1.0\n",
      "6         1.0\n"
     ]
    }
   ],
   "source": [
    "fair = die([1,2,3,4,5,6])\n",
    "unfair1 = die([1,2,3,4,5,6])\n",
    "unfair1.change_weight(6, 5)\n",
    "unfair2 = die([1,2,3,4,5,6])\n",
    "unfair2.change_weight(1,5)\n",
    "print(\"Fair: \\n\", fair.display())\n",
    "print(\"\\n Unfair1: \\n \", unfair1.display())\n",
    "print(\"\\n Unfair2: \\n \", unfair2.display())"
   ]
  },
  {
   "cell_type": "markdown",
   "id": "9cbd6d0a-fa28-4906-87ee-f97a6bf0ad55",
   "metadata": {},
   "source": [
    "Next we use these dice to play two games: a fair game with 6 fair dice, and an unfair game with two unfair1s, one unfair2, and two fair dice. We both sets of dice 10000 times:"
   ]
  },
  {
   "cell_type": "code",
   "execution_count": 13,
   "id": "2ba9b7c3-6db1-466d-a28c-87033ae025a3",
   "metadata": {},
   "outputs": [
    {
     "name": "stdout",
     "output_type": "stream",
     "text": [
      "Fair game: \n",
      "        Die 1  Die 2  Die 3  Die 4  Die 5\n",
      "1          6      3      4      3      2\n",
      "2          4      1      3      5      1\n",
      "3          2      3      1      2      2\n",
      "4          2      5      2      5      1\n",
      "5          4      3      3      3      4\n",
      "...      ...    ...    ...    ...    ...\n",
      "9996       4      4      4      2      3\n",
      "9997       3      1      5      6      3\n",
      "9998       4      6      6      5      2\n",
      "9999       3      6      6      3      1\n",
      "10000      5      1      6      1      6\n",
      "\n",
      "[10000 rows x 5 columns]\n"
     ]
    }
   ],
   "source": [
    "fairgame=game([fair, fair, fair, fair, fair])\n",
    "fairgame.play(10000)\n",
    "print(\"Fair game: \\n\", fairgame.show_rolls(wide = True))"
   ]
  },
  {
   "cell_type": "code",
   "execution_count": 14,
   "id": "e1494f4b-e85e-435b-8133-d2f967b094dd",
   "metadata": {},
   "outputs": [
    {
     "name": "stdout",
     "output_type": "stream",
     "text": [
      "Unfair game: \n",
      "        Die 1  Die 2  Die 3  Die 4  Die 5\n",
      "1          6      5      4      2      1\n",
      "2          3      6      1      6      1\n",
      "3          1      2      5      1      1\n",
      "4          6      4      5      5      2\n",
      "5          6      1      1      2      6\n",
      "...      ...    ...    ...    ...    ...\n",
      "9996       5      6      6      1      5\n",
      "9997       6      6      3      5      4\n",
      "9998       4      4      1      6      6\n",
      "9999       5      6      1      4      4\n",
      "10000      2      6      1      1      1\n",
      "\n",
      "[10000 rows x 5 columns]\n"
     ]
    }
   ],
   "source": [
    "unfairgame=game([unfair1, unfair1, unfair2, fair, fair])\n",
    "unfairgame.play(10000)\n",
    "print(\"Unfair game: \\n\", unfairgame.show_rolls())"
   ]
  },
  {
   "cell_type": "markdown",
   "id": "4009657f-d266-41eb-b894-9da40b086863",
   "metadata": {},
   "source": [
    "We again analyze the relative frequency of jackpots of the two games:"
   ]
  },
  {
   "cell_type": "code",
   "execution_count": 15,
   "id": "bbc8e53c-e31b-4f72-a6fd-2eecc1dce07b",
   "metadata": {},
   "outputs": [],
   "source": [
    "fairanalyzer = analyzer(fairgame)\n",
    "unfairanalyzer = analyzer(unfairgame)"
   ]
  },
  {
   "cell_type": "code",
   "execution_count": 16,
   "id": "ab0f952a-e48d-4fec-bb10-427e8ddbdd5a",
   "metadata": {},
   "outputs": [
    {
     "name": "stdout",
     "output_type": "stream",
     "text": [
      "Relative frequency of fair game jackpots: 0.0007\n"
     ]
    }
   ],
   "source": [
    "fj = fairanalyzer.jackpot()\n",
    "print(\"Relative frequency of fair game jackpots:\", fj/10000)"
   ]
  },
  {
   "cell_type": "code",
   "execution_count": 17,
   "id": "f6ab5547-e946-4290-a2c0-9c3ba9bf0f03",
   "metadata": {},
   "outputs": [
    {
     "name": "stdout",
     "output_type": "stream",
     "text": [
      "Relative frequency of unfair game jackpots: 0.0015\n"
     ]
    }
   ],
   "source": [
    "uj = unfairanalyzer.jackpot()\n",
    "print(\"Relative frequency of unfair game jackpots:\", uj/10000)"
   ]
  },
  {
   "cell_type": "code",
   "execution_count": 18,
   "id": "19820142-566b-4579-a1ac-09d7288b6fcb",
   "metadata": {},
   "outputs": [
    {
     "data": {
      "image/png": "[encoded data removed]",
      "text/plain": [
       "<Figure size 432x288 with 1 Axes>"
      ]
     },
     "metadata": {
      "needs_background": "light"
     },
     "output_type": "display_data"
    }
   ],
   "source": [
    "plot.bar([\"Fair jackpots\",\"Unfair jackpots\"],[(fj/1000), (uj/1000)])\n",
    "plot.title(\"Relative Frequency of Jackpots\");"
   ]
  },
  {
   "cell_type": "markdown",
   "id": "6fc080fd-d938-46c4-b14a-80726d7d435f",
   "metadata": {},
   "source": [
    "**We can use the combo and sequence functions to produce multi-index representations of the frequency of each roll combination or roll sequence:"
   ]
  },
  {
   "cell_type": "code",
   "execution_count": 19,
   "id": "6c13dc2e-9efa-423e-a8a5-23233af6e406",
   "metadata": {},
   "outputs": [
    {
     "name": "stdout",
     "output_type": "stream",
     "text": [
      "Fair game: \n",
      "            Frequency\n",
      "0 1 2 3 4           \n",
      "2 3 4 5 6        171\n",
      "1 2 4 5 6        165\n",
      "    3 5 6        164\n",
      "      4 5        163\n",
      "        6        149\n",
      "...              ...\n",
      "2 2 2 2 4          2\n",
      "1 1 1 1 2          2\n",
      "3 3 3 3 3          1\n",
      "2 2 2 2 2          1\n",
      "1 1 1 1 1          1\n",
      "\n",
      "[250 rows x 1 columns]                                Frequency\n",
      "Die 1 Die 2 Die 3 Die 4 Die 5           \n",
      "5     2     2     1     4              7\n",
      "4     4     4     2     3              7\n",
      "5     3     5     2     1              7\n",
      "6     3     5     3     5              6\n",
      "5     4     2     2     6              6\n",
      "...                                  ...\n",
      "4     1     6     6     5              1\n",
      "1     4     3     6     6              1\n",
      "4     2     1     1     2              1\n",
      "                        3              1\n",
      "1     1     1     1     1              1\n",
      "\n",
      "[5631 rows x 1 columns]\n",
      "Unfair game: \n",
      "            Frequency\n",
      "0 1 2 3 4           \n",
      "1 3 4 6 6        229\n",
      "  2 3 6 6        210\n",
      "    4 6 6        203\n",
      "  4 5 6 6        193\n",
      "  2 4 5 6        192\n",
      "...              ...\n",
      "3 3 3 5 5          1\n",
      "1 5 5 5 5          1\n",
      "3 3 5 5 5          1\n",
      "  5 5 5 5          1\n",
      "1 1 1 1 1          1\n",
      "\n",
      "[245 rows x 1 columns]                                Frequency\n",
      "Die 1 Die 2 Die 3 Die 4 Die 5           \n",
      "6     6     1     5     4             47\n",
      "                  2     3             46\n",
      "                  3     5             45\n",
      "                  5     5             45\n",
      "                  3     4             43\n",
      "...                                  ...\n",
      "4     1     1     1     3              1\n",
      "                  2     2              1\n",
      "                        3              1\n",
      "                        4              1\n",
      "      4     5     5     1              1\n",
      "\n",
      "[3695 rows x 1 columns]\n"
     ]
    }
   ],
   "source": [
    "print(\"Fair game: \\n\", fairanalyzer.combo(), fairanalyzer.sequence())\n",
    "print(\"Unfair game: \\n\", unfairanalyzer.combo(), unfairanalyzer.sequence())"
   ]
  },
  {
   "cell_type": "code",
   "execution_count": null,
   "id": "42a027df-e627-4086-b752-66afaa9574ce",
   "metadata": {},
   "outputs": [],
   "source": []
  }
 ],
 "metadata": {
  "kernelspec": {
   "display_name": "Python 3 (ipykernel)",
   "language": "python",
   "name": "python3"
  },
  "language_info": {
   "codemirror_mode": {
    "name": "ipython",
    "version": 3
   },
   "file_extension": ".py",
   "mimetype": "text/x-python",
   "name": "python",
   "nbconvert_exporter": "python",
   "pygments_lexer": "ipython3",
   "version": "3.9.12"
  }
 },
 "nbformat": 4,
 "nbformat_minor": 5
}
