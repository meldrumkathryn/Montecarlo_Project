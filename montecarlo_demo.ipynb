{
 "cells": [
  {
   "cell_type": "markdown",
   "id": "e223a3c6-96ab-40f7-b145-b546bb21a2c4",
   "metadata": {},
   "source": [
    "# Montecarlo Demo\n",
    "\n",
    "Kate Meldrum"
   ]
  },
  {
   "cell_type": "code",
   "execution_count": 25,
   "id": "84c48565-b153-47c9-ab7b-fbfc022175c6",
   "metadata": {
    "tags": []
   },
   "outputs": [],
   "source": [
    "from montecarlo import *\n",
    "import pandas as pd\n",
    "import warnings\n",
    "warnings.filterwarnings('ignore')"
   ]
  },
  {
   "cell_type": "markdown",
   "id": "55d69213-403a-4760-9300-e4a62425ff0b",
   "metadata": {},
   "source": [
    "## Senario 1: "
   ]
  },
  {
   "cell_type": "markdown",
   "id": "80c6e0ba-d292-42f9-8c2e-27da6a8a603e",
   "metadata": {},
   "source": [
    "1. Create a fair coin (with faces H and T) and one unfair coin, in which one of the faces has a weight of 5 and the others 1."
   ]
  },
  {
   "cell_type": "code",
   "execution_count": 2,
   "id": "4538d8c9-ac21-4cb0-983e-f3f1d63df437",
   "metadata": {},
   "outputs": [
    {
     "name": "stdout",
     "output_type": "stream",
     "text": [
      "Fair Coin:\n",
      "    Weight\n",
      "H     1.0\n",
      "T     1.0\n",
      "Unfair Coin:\n",
      "    Weight\n",
      "H     5.0\n",
      "T     1.0\n"
     ]
    }
   ],
   "source": [
    "fair = die(['H','T'])\n",
    "unfair = die(['H','T'])\n",
    "unfair.change_weight('H', 5)\n",
    "print(\"Fair Coin:\\n\", fair.display())\n",
    "print(\"Unfair Coin:\\n\", unfair.display())"
   ]
  },
  {
   "cell_type": "markdown",
   "id": "0b46a461-6704-462e-8511-faa0a6af5713",
   "metadata": {},
   "source": [
    "2. Play a game of 1000 flips with all fair dice"
   ]
  },
  {
   "cell_type": "markdown",
   "id": "da527859-818c-42b1-b061-de3eeb07c060",
   "metadata": {},
   "source": [
    "3. Play a game of 1000 flips with two unfair dice and one fair die."
   ]
  },
  {
   "cell_type": "code",
   "execution_count": 3,
   "id": "36a505e0-1b8e-439c-8155-39c6048ff573",
   "metadata": {},
   "outputs": [
    {
     "name": "stdout",
     "output_type": "stream",
     "text": [
      "Fair Game: \n",
      "      Die 1 Die 2 Die 3\n",
      "1        T     H     H\n",
      "2        T     H     H\n",
      "3        H     H     H\n",
      "4        H     H     H\n",
      "5        H     H     T\n",
      "...    ...   ...   ...\n",
      "996      H     T     T\n",
      "997      H     H     H\n",
      "998      H     H     H\n",
      "999      H     H     T\n",
      "1000     H     H     T\n",
      "\n",
      "[1000 rows x 3 columns]\n",
      "Unfair Game: \n",
      "      Die 1 Die 2 Die 3\n",
      "1        T     H     T\n",
      "2        H     H     H\n",
      "3        T     H     T\n",
      "4        H     T     H\n",
      "5        T     H     T\n",
      "...    ...   ...   ...\n",
      "996      H     T     H\n",
      "997      T     H     H\n",
      "998      H     H     T\n",
      "999      H     H     T\n",
      "1000     H     H     T\n",
      "\n",
      "[1000 rows x 3 columns]\n"
     ]
    }
   ],
   "source": [
    "fairgame = game([fair,fair, fair])\n",
    "unfairgame = game([unfair,unfair, fair])\n",
    "fairgame.play(1000)\n",
    "unfairgame.play(1000)\n",
    "print(\"Fair Game: \\n\", fairgame.show_rolls())\n",
    "print(\"Unfair Game: \\n\", unfairgame.show_rolls())"
   ]
  },
  {
   "cell_type": "markdown",
   "id": "4fe07153-0d67-4ce2-ae29-90690ba0a4ca",
   "metadata": {},
   "source": [
    "4. For each game, use an Analyzer object to determine the relative frequency of jackpots – getting either all Hs or all Ts."
   ]
  },
  {
   "cell_type": "code",
   "execution_count": 4,
   "id": "2bf442b3-3c3a-4d05-82ce-0e070fcf9b24",
   "metadata": {},
   "outputs": [
    {
     "name": "stdout",
     "output_type": "stream",
     "text": [
      "Fair game jackpots:  244\n",
      "Unfair game jackpots:  364\n"
     ]
    }
   ],
   "source": [
    "fairan = analyzer(fairgame)\n",
    "unfairan = analyzer(unfairgame)\n",
    "fj = fairan.jackpot()\n",
    "uj = unfairan.jackpot()\n",
    "print(\"Fair game jackpots: \", fj);\n",
    "print(\"Unfair game jackpots: \", uj);"
   ]
  },
  {
   "cell_type": "markdown",
   "id": "202a3c1f-ead2-481d-9c03-ccecf133a3f9",
   "metadata": {},
   "source": [
    "5. Compute relative frequency as the number of jackpots over the total number of rolls."
   ]
  },
  {
   "cell_type": "code",
   "execution_count": 5,
   "id": "3c145f9a-ab59-4cbe-9543-89f81a95542c",
   "metadata": {},
   "outputs": [
    {
     "name": "stdout",
     "output_type": "stream",
     "text": [
      "Relative frequency of fair game jackpots:  0.244\n",
      "Relative frequency of unfair game jackpots:  0.364\n"
     ]
    }
   ],
   "source": [
    "print(\"Relative frequency of fair game jackpots: \", fj/1000)\n",
    "print(\"Relative frequency of unfair game jackpots: \", uj/1000)"
   ]
  },
  {
   "cell_type": "markdown",
   "id": "12fcbfec-897d-4d54-b202-97ec173adda8",
   "metadata": {},
   "source": [
    "6. Show your results, comparing the two relative frequencies, in a simple bar chart."
   ]
  },
  {
   "cell_type": "code",
   "execution_count": 6,
   "id": "5e940f28-6e05-40cf-ab92-7043721b0b43",
   "metadata": {},
   "outputs": [],
   "source": [
    "import matplotlib.pyplot as plot"
   ]
  },
  {
   "cell_type": "code",
   "execution_count": 7,
   "id": "08c6da25-c682-4586-8fd5-350953238567",
   "metadata": {},
   "outputs": [
    {
     "data": {
      "image/png": "[encoded data removed]",
      "text/plain": [
       "<Figure size 432x288 with 1 Axes>"
      ]
     },
     "metadata": {
      "needs_background": "light"
     },
     "output_type": "display_data"
    }
   ],
   "source": [
    "plot.bar([\"Fair jackpots\",\"Unfair jackpots\"],[(fj/1000), (uj/1000)])\n",
    "plot.title(\"Relative Frequency of Jackpots\");"
   ]
  },
  {
   "cell_type": "markdown",
   "id": "9c9b2c86-2d59-4b4d-8f88-410de31d3af3",
   "metadata": {},
   "source": [
    "## Senario 2:"
   ]
  },
  {
   "cell_type": "markdown",
   "id": "8b2b1261-624a-44d5-ad47-36643b73cb16",
   "metadata": {},
   "source": [
    "1. Create a fair die and two unfair dice, all of six sides with the faces 1 through 6. One unfair die (Type 1) will weight 6 five times more than the others (i.e. it has weight of 5 and the others a weight of 1 each). The other unfair die (Type 2) will  weight 1 five times more than the others."
   ]
  },
  {
   "cell_type": "code",
   "execution_count": 8,
   "id": "1c3ee0a2-e541-44d8-82f7-176f6ebb932f",
   "metadata": {},
   "outputs": [
    {
     "name": "stdout",
     "output_type": "stream",
     "text": [
      "   Weight\n",
      "1     1.0\n",
      "2     1.0\n",
      "3     1.0\n",
      "4     1.0\n",
      "5     1.0\n",
      "6     1.0\n",
      "   Weight\n",
      "1     1.0\n",
      "2     1.0\n",
      "3     1.0\n",
      "4     1.0\n",
      "5     1.0\n",
      "6     5.0\n",
      "   Weight\n",
      "1     5.0\n",
      "2     1.0\n",
      "3     1.0\n",
      "4     1.0\n",
      "5     1.0\n",
      "6     1.0\n"
     ]
    }
   ],
   "source": [
    "fair = die([1,2,3,4,5,6])\n",
    "unfair1 = die([1,2,3,4,5,6])\n",
    "unfair1.change_weight(6, 5)\n",
    "unfair2 = die([1,2,3,4,5,6])\n",
    "unfair2.change_weight(1,5)\n",
    "print(fair.display())\n",
    "print(unfair1.display())\n",
    "print(unfair2.display())"
   ]
  },
  {
   "cell_type": "markdown",
   "id": "aa058eaa-304a-47d7-aefe-4b98d955a07f",
   "metadata": {},
   "source": [
    "2. Play a game of 10000 rolls with 5 fair dice."
   ]
  },
  {
   "cell_type": "code",
   "execution_count": 9,
   "id": "4c92028e-721f-472e-8370-21535a887c0f",
   "metadata": {},
   "outputs": [
    {
     "name": "stdout",
     "output_type": "stream",
     "text": [
      "Fair game: \n",
      "        Die 1  Die 2  Die 3  Die 4  Die 5\n",
      "1          1      2      5      1      3\n",
      "2          6      6      1      5      2\n",
      "3          5      5      2      5      6\n",
      "4          1      6      3      4      1\n",
      "5          1      3      3      6      5\n",
      "...      ...    ...    ...    ...    ...\n",
      "9996       6      5      5      6      6\n",
      "9997       5      3      5      5      4\n",
      "9998       4      2      5      1      5\n",
      "9999       1      5      1      2      4\n",
      "10000      3      1      3      6      5\n",
      "\n",
      "[10000 rows x 5 columns]\n"
     ]
    }
   ],
   "source": [
    "fairgame=game([fair, fair, fair, fair, fair])\n",
    "fairgame.play(10000)\n",
    "print(\"Fair game: \\n\", fairgame.show_rolls())"
   ]
  },
  {
   "cell_type": "markdown",
   "id": "ce7d8321-8948-4bc2-b241-e95eba8fee30",
   "metadata": {},
   "source": [
    "3. Play a game of 10000 rolls with 2 unfair dice of type 1, 1 unfair die of type 2, and the rest fair dice.\n"
   ]
  },
  {
   "cell_type": "code",
   "execution_count": 10,
   "id": "fea5f189-7c7c-47e5-9a5c-39aca8e395c4",
   "metadata": {},
   "outputs": [
    {
     "name": "stdout",
     "output_type": "stream",
     "text": [
      "Unfair game: \n",
      "        Die 1  Die 2  Die 3  Die 4  Die 5\n",
      "1          2      5      6      4      2\n",
      "2          6      5      5      2      5\n",
      "3          6      6      1      2      3\n",
      "4          6      6      4      6      3\n",
      "5          3      6      3      3      3\n",
      "...      ...    ...    ...    ...    ...\n",
      "9996       6      2      6      3      6\n",
      "9997       6      2      1      2      3\n",
      "9998       5      6      5      5      3\n",
      "9999       1      6      1      6      5\n",
      "10000      4      6      1      4      6\n",
      "\n",
      "[10000 rows x 5 columns]\n"
     ]
    }
   ],
   "source": [
    "unfairgame=game([unfair1, unfair1, unfair2, fair, fair])\n",
    "unfairgame.play(10000)\n",
    "print(\"Unfair game: \\n\", unfairgame.show_rolls())"
   ]
  },
  {
   "cell_type": "markdown",
   "id": "2825f262-b2ff-46cc-9e92-f9130ac54cd7",
   "metadata": {},
   "source": [
    "4. For each game, use an Analyzer object to determine the relative frequency of jackpots and show your results, comparing the two relative frequencies, in a simple bar chart."
   ]
  },
  {
   "cell_type": "code",
   "execution_count": 11,
   "id": "83682ba4-e4b1-4a7b-9970-c0841fb1ef54",
   "metadata": {},
   "outputs": [],
   "source": [
    "fairanalyzer = analyzer(fairgame)\n",
    "unfairanalyzer = analyzer(unfairgame)"
   ]
  },
  {
   "cell_type": "code",
   "execution_count": 12,
   "id": "a6d7a94a-0cd1-445d-92af-6f669aef6d97",
   "metadata": {},
   "outputs": [
    {
     "name": "stdout",
     "output_type": "stream",
     "text": [
      "Relative frequency of fair game jackpots: 0.0007\n"
     ]
    }
   ],
   "source": [
    "fj = fairanalyzer.jackpot()\n",
    "print(\"Relative frequency of fair game jackpots:\", fj/10000)"
   ]
  },
  {
   "cell_type": "code",
   "execution_count": 13,
   "id": "f4f9541a-3c5a-4ff4-a65c-f2a62bf9c3ee",
   "metadata": {},
   "outputs": [
    {
     "name": "stdout",
     "output_type": "stream",
     "text": [
      "Relative frequency of unfair game jackpots: 0.0014\n"
     ]
    }
   ],
   "source": [
    "uj = unfairanalyzer.jackpot()\n",
    "print(\"Relative frequency of unfair game jackpots:\", uj/10000)"
   ]
  },
  {
   "cell_type": "code",
   "execution_count": 14,
   "id": "4011a936-ba91-4be0-bad1-409ff46a7b4b",
   "metadata": {},
   "outputs": [
    {
     "data": {
      "image/png": "[encoded data removed]",
      "text/plain": [
       "<Figure size 432x288 with 1 Axes>"
      ]
     },
     "metadata": {
      "needs_background": "light"
     },
     "output_type": "display_data"
    }
   ],
   "source": [
    "plot.bar([\"Fair jackpots\",\"Unfair jackpots\"],[(fj/1000), (uj/1000)])\n",
    "plot.title(\"Relative Frequency of Jackpots\");"
   ]
  },
  {
   "cell_type": "markdown",
   "id": "c335c2f3-1adb-4320-929a-12f97a81f459",
   "metadata": {},
   "source": [
    "5. Also compute 10 most frequent combinations of faces for each game. Plot each of these as bar charts."
   ]
  },
  {
   "cell_type": "code",
   "execution_count": 15,
   "id": "8fea113f-e468-48d3-a7ee-202da98b221c",
   "metadata": {},
   "outputs": [],
   "source": [
    "ftt=fairanalyzer.most_frequent(10)\n",
    "utt=unfairanalyzer.most_frequent(10)"
   ]
  },
  {
   "cell_type": "code",
   "execution_count": 16,
   "id": "b242d5dd-00e2-4bf0-acd3-047ff6aabc20",
   "metadata": {},
   "outputs": [
    {
     "name": "stdout",
     "output_type": "stream",
     "text": [
      "Fair Die:\n"
     ]
    },
    {
     "data": {
      "image/png": "[encoded data removed]",
      "text/plain": [
       "<Figure size 432x288 with 1 Axes>"
      ]
     },
     "metadata": {
      "needs_background": "light"
     },
     "output_type": "display_data"
    }
   ],
   "source": [
    "print('Fair Die:')\n",
    "ftt.plot.bar();\n"
   ]
  },
  {
   "cell_type": "code",
   "execution_count": 17,
   "id": "18460eb9-d45c-4692-bf1d-a985b663e466",
   "metadata": {},
   "outputs": [
    {
     "name": "stdout",
     "output_type": "stream",
     "text": [
      "Unfair Die:\n"
     ]
    },
    {
     "data": {
      "image/png": "[encoded data removed]",
      "text/plain": [
       "<Figure size 432x288 with 1 Axes>"
      ]
     },
     "metadata": {
      "needs_background": "light"
     },
     "output_type": "display_data"
    }
   ],
   "source": [
    "print('Unfair Die:')\n",
    "utt.plot.bar();"
   ]
  },
  {
   "cell_type": "markdown",
   "id": "79bf161f-ccd2-46a7-93cc-306b38bb0cb7",
   "metadata": {},
   "source": [
    "note that these six character numerics represent frequencies of faces in each roll, for example:\n",
    "\n",
    "'100103' contains the numbers [1,4,6,6,6]"
   ]
  },
  {
   "cell_type": "markdown",
   "id": "ece1ea11-265a-4594-9b94-9a25c4580214",
   "metadata": {},
   "source": [
    "## Senario 3:"
   ]
  },
  {
   "cell_type": "markdown",
   "id": "711e2857-c2f8-486e-8654-b9640d9a8ab6",
   "metadata": {},
   "source": [
    "1. Create a \"die\" of letters from a to z with weights based on their frequency of usage."
   ]
  },
  {
   "cell_type": "code",
   "execution_count": 18,
   "id": "9c8bd7af-20a5-4f7b-a9f4-f079ba70d7ec",
   "metadata": {},
   "outputs": [],
   "source": [
    "alpha = ['a', 'b', 'c', 'd', 'e', 'f', 'g', 'h', 'i', 'j', 'k', 'l', 'm', 'n', 'o', 'p', 'q', 'r', 's', 't', 'u', 'v', 'w', 'x', 'y', 'z']\n",
    "die = die(['a', 'b', 'c', 'd', 'e', 'f', 'g', 'h', 'i', 'j', 'k', 'l', 'm', 'n', 'o', 'p', 'q', 'r', 's', 't', 'u', 'v', 'w', 'x', 'y', 'z'])"
   ]
  },
  {
   "cell_type": "code",
   "execution_count": 19,
   "id": "c5a47ff6-ec9c-47ab-a112-7d3d1e8435a5",
   "metadata": {},
   "outputs": [
    {
     "data": {
      "text/html": [
       "<div>\n",
       "<style scoped>\n",
       "    .dataframe tbody tr th:only-of-type {\n",
       "        vertical-align: middle;\n",
       "    }\n",
       "\n",
       "    .dataframe tbody tr th {\n",
       "        vertical-align: top;\n",
       "    }\n",
       "\n",
       "    .dataframe thead th {\n",
       "        text-align: right;\n",
       "    }\n",
       "</style>\n",
       "<table border=\"1\" class=\"dataframe\">\n",
       "  <thead>\n",
       "    <tr style=\"text-align: right;\">\n",
       "      <th></th>\n",
       "      <th>Weight</th>\n",
       "    </tr>\n",
       "  </thead>\n",
       "  <tbody>\n",
       "    <tr>\n",
       "      <th>a</th>\n",
       "      <td>8.4966</td>\n",
       "    </tr>\n",
       "    <tr>\n",
       "      <th>b</th>\n",
       "      <td>2.0720</td>\n",
       "    </tr>\n",
       "    <tr>\n",
       "      <th>c</th>\n",
       "      <td>4.5388</td>\n",
       "    </tr>\n",
       "    <tr>\n",
       "      <th>d</th>\n",
       "      <td>3.3844</td>\n",
       "    </tr>\n",
       "    <tr>\n",
       "      <th>e</th>\n",
       "      <td>11.1607</td>\n",
       "    </tr>\n",
       "    <tr>\n",
       "      <th>f</th>\n",
       "      <td>1.8121</td>\n",
       "    </tr>\n",
       "    <tr>\n",
       "      <th>g</th>\n",
       "      <td>2.4705</td>\n",
       "    </tr>\n",
       "    <tr>\n",
       "      <th>h</th>\n",
       "      <td>3.0034</td>\n",
       "    </tr>\n",
       "    <tr>\n",
       "      <th>i</th>\n",
       "      <td>7.5448</td>\n",
       "    </tr>\n",
       "    <tr>\n",
       "      <th>j</th>\n",
       "      <td>0.1965</td>\n",
       "    </tr>\n",
       "    <tr>\n",
       "      <th>k</th>\n",
       "      <td>1.1016</td>\n",
       "    </tr>\n",
       "    <tr>\n",
       "      <th>l</th>\n",
       "      <td>5.4893</td>\n",
       "    </tr>\n",
       "    <tr>\n",
       "      <th>m</th>\n",
       "      <td>3.0129</td>\n",
       "    </tr>\n",
       "    <tr>\n",
       "      <th>n</th>\n",
       "      <td>6.6544</td>\n",
       "    </tr>\n",
       "    <tr>\n",
       "      <th>o</th>\n",
       "      <td>7.1635</td>\n",
       "    </tr>\n",
       "    <tr>\n",
       "      <th>p</th>\n",
       "      <td>3.1671</td>\n",
       "    </tr>\n",
       "    <tr>\n",
       "      <th>q</th>\n",
       "      <td>0.1962</td>\n",
       "    </tr>\n",
       "    <tr>\n",
       "      <th>r</th>\n",
       "      <td>7.5809</td>\n",
       "    </tr>\n",
       "    <tr>\n",
       "      <th>s</th>\n",
       "      <td>5.7351</td>\n",
       "    </tr>\n",
       "    <tr>\n",
       "      <th>t</th>\n",
       "      <td>6.9509</td>\n",
       "    </tr>\n",
       "    <tr>\n",
       "      <th>u</th>\n",
       "      <td>3.6308</td>\n",
       "    </tr>\n",
       "    <tr>\n",
       "      <th>v</th>\n",
       "      <td>1.0074</td>\n",
       "    </tr>\n",
       "    <tr>\n",
       "      <th>w</th>\n",
       "      <td>1.2899</td>\n",
       "    </tr>\n",
       "    <tr>\n",
       "      <th>x</th>\n",
       "      <td>0.2902</td>\n",
       "    </tr>\n",
       "    <tr>\n",
       "      <th>y</th>\n",
       "      <td>1.7779</td>\n",
       "    </tr>\n",
       "    <tr>\n",
       "      <th>z</th>\n",
       "      <td>0.2722</td>\n",
       "    </tr>\n",
       "  </tbody>\n",
       "</table>\n",
       "</div>"
      ],
      "text/plain": [
       "    Weight\n",
       "a   8.4966\n",
       "b   2.0720\n",
       "c   4.5388\n",
       "d   3.3844\n",
       "e  11.1607\n",
       "f   1.8121\n",
       "g   2.4705\n",
       "h   3.0034\n",
       "i   7.5448\n",
       "j   0.1965\n",
       "k   1.1016\n",
       "l   5.4893\n",
       "m   3.0129\n",
       "n   6.6544\n",
       "o   7.1635\n",
       "p   3.1671\n",
       "q   0.1962\n",
       "r   7.5809\n",
       "s   5.7351\n",
       "t   6.9509\n",
       "u   3.6308\n",
       "v   1.0074\n",
       "w   1.2899\n",
       "x   0.2902\n",
       "y   1.7779\n",
       "z   0.2722"
      ]
     },
     "execution_count": 19,
     "metadata": {},
     "output_type": "execute_result"
    }
   ],
   "source": [
    "freq = [8.4966, 2.0720, 4.5388, 3.3844, 11.1607, 1.8121, 2.4705, 3.0034, 7.5448, 0.1965, 1.1016, 5.4893, 3.0129, 6.6544, 7.1635, 3.1671, 0.1962, 7.5809, 5.7351, 6.9509, 3.6308, 1.0074, 1.2899, 0.2902, 1.7779, 0.2722]\n",
    "for i in range(0,26):\n",
    "    die.change_weight(alpha[i], freq[i])\n",
    "die.display()"
   ]
  },
  {
   "cell_type": "markdown",
   "id": "e45e2692-731e-4da0-9835-0fb7e988b78b",
   "metadata": {},
   "source": [
    "2. Play a game involving 5 of these dice with 1000 rolls."
   ]
  },
  {
   "cell_type": "code",
   "execution_count": 20,
   "id": "b30a52e5-0e85-41c9-959f-291e50fb36d9",
   "metadata": {},
   "outputs": [
    {
     "data": {
      "text/html": [
       "<div>\n",
       "<style scoped>\n",
       "    .dataframe tbody tr th:only-of-type {\n",
       "        vertical-align: middle;\n",
       "    }\n",
       "\n",
       "    .dataframe tbody tr th {\n",
       "        vertical-align: top;\n",
       "    }\n",
       "\n",
       "    .dataframe thead th {\n",
       "        text-align: right;\n",
       "    }\n",
       "</style>\n",
       "<table border=\"1\" class=\"dataframe\">\n",
       "  <thead>\n",
       "    <tr style=\"text-align: right;\">\n",
       "      <th></th>\n",
       "      <th>Die 1</th>\n",
       "      <th>Die 2</th>\n",
       "      <th>Die 3</th>\n",
       "      <th>Die 4</th>\n",
       "      <th>Die 5</th>\n",
       "    </tr>\n",
       "  </thead>\n",
       "  <tbody>\n",
       "    <tr>\n",
       "      <th>1</th>\n",
       "      <td>d</td>\n",
       "      <td>c</td>\n",
       "      <td>c</td>\n",
       "      <td>u</td>\n",
       "      <td>e</td>\n",
       "    </tr>\n",
       "    <tr>\n",
       "      <th>2</th>\n",
       "      <td>n</td>\n",
       "      <td>d</td>\n",
       "      <td>o</td>\n",
       "      <td>e</td>\n",
       "      <td>e</td>\n",
       "    </tr>\n",
       "    <tr>\n",
       "      <th>3</th>\n",
       "      <td>e</td>\n",
       "      <td>d</td>\n",
       "      <td>e</td>\n",
       "      <td>t</td>\n",
       "      <td>e</td>\n",
       "    </tr>\n",
       "    <tr>\n",
       "      <th>4</th>\n",
       "      <td>p</td>\n",
       "      <td>c</td>\n",
       "      <td>a</td>\n",
       "      <td>e</td>\n",
       "      <td>e</td>\n",
       "    </tr>\n",
       "    <tr>\n",
       "      <th>5</th>\n",
       "      <td>p</td>\n",
       "      <td>p</td>\n",
       "      <td>l</td>\n",
       "      <td>i</td>\n",
       "      <td>e</td>\n",
       "    </tr>\n",
       "    <tr>\n",
       "      <th>...</th>\n",
       "      <td>...</td>\n",
       "      <td>...</td>\n",
       "      <td>...</td>\n",
       "      <td>...</td>\n",
       "      <td>...</td>\n",
       "    </tr>\n",
       "    <tr>\n",
       "      <th>996</th>\n",
       "      <td>i</td>\n",
       "      <td>d</td>\n",
       "      <td>i</td>\n",
       "      <td>m</td>\n",
       "      <td>a</td>\n",
       "    </tr>\n",
       "    <tr>\n",
       "      <th>997</th>\n",
       "      <td>i</td>\n",
       "      <td>d</td>\n",
       "      <td>i</td>\n",
       "      <td>i</td>\n",
       "      <td>e</td>\n",
       "    </tr>\n",
       "    <tr>\n",
       "      <th>998</th>\n",
       "      <td>l</td>\n",
       "      <td>o</td>\n",
       "      <td>a</td>\n",
       "      <td>o</td>\n",
       "      <td>y</td>\n",
       "    </tr>\n",
       "    <tr>\n",
       "      <th>999</th>\n",
       "      <td>n</td>\n",
       "      <td>n</td>\n",
       "      <td>a</td>\n",
       "      <td>a</td>\n",
       "      <td>m</td>\n",
       "    </tr>\n",
       "    <tr>\n",
       "      <th>1000</th>\n",
       "      <td>e</td>\n",
       "      <td>d</td>\n",
       "      <td>d</td>\n",
       "      <td>e</td>\n",
       "      <td>t</td>\n",
       "    </tr>\n",
       "  </tbody>\n",
       "</table>\n",
       "<p>1000 rows × 5 columns</p>\n",
       "</div>"
      ],
      "text/plain": [
       "     Die 1 Die 2 Die 3 Die 4 Die 5\n",
       "1        d     c     c     u     e\n",
       "2        n     d     o     e     e\n",
       "3        e     d     e     t     e\n",
       "4        p     c     a     e     e\n",
       "5        p     p     l     i     e\n",
       "...    ...   ...   ...   ...   ...\n",
       "996      i     d     i     m     a\n",
       "997      i     d     i     i     e\n",
       "998      l     o     a     o     y\n",
       "999      n     n     a     a     m\n",
       "1000     e     d     d     e     t\n",
       "\n",
       "[1000 rows x 5 columns]"
      ]
     },
     "execution_count": 20,
     "metadata": {},
     "output_type": "execute_result"
    }
   ],
   "source": [
    "game = game([die,die,die,die,die])\n",
    "game.play(1000)\n",
    "df = game.show_rolls()\n",
    "df "
   ]
  },
  {
   "cell_type": "markdown",
   "id": "d0aa7234-04dc-4a6d-bf0f-dc1073c5a9dc",
   "metadata": {},
   "source": [
    "3. How many combos can you that look like actual English words? ← NOTE: \"combo\" here just means resulting sequence, not literally combination as opposed to permutation."
   ]
  },
  {
   "cell_type": "code",
   "execution_count": 21,
   "id": "fc9fc575-26f8-4986-8964-ead3b99432ef",
   "metadata": {},
   "outputs": [],
   "source": [
    "rolls_lst = []\n",
    "for i in range(len(df)):   \n",
    "    rolls_lst.append(''.join(list(df.iloc[i,:])))"
   ]
  },
  {
   "cell_type": "code",
   "execution_count": 22,
   "id": "8600a5d8-bffa-47dc-a54c-25b4bfb2cb3f",
   "metadata": {},
   "outputs": [
    {
     "name": "stdout",
     "output_type": "stream",
     "text": [
      "['suras', 'tiers']\n"
     ]
    }
   ],
   "source": [
    "from scrab import scrab_words_5l\n",
    "real_words = []\n",
    "for roll in rolls_lst:\n",
    "    if roll in scrab_words_5l:\n",
    "        real_words.append(roll)\n",
    "print(real_words)"
   ]
  },
  {
   "cell_type": "markdown",
   "id": "2a19a503-75cd-4e09-864b-e6213aac6a76",
   "metadata": {},
   "source": [
    "4. Based on your eye count, what is the relative frequency of these words versus the rest?\n"
   ]
  },
  {
   "cell_type": "code",
   "execution_count": 23,
   "id": "b59aa372-404e-4365-ae06-0e0dfba993de",
   "metadata": {},
   "outputs": [
    {
     "name": "stdout",
     "output_type": "stream",
     "text": [
      "Relative Frequency:  0.002\n"
     ]
    }
   ],
   "source": [
    "print(\"Relative Frequency: \", len(real_words)/1000)"
   ]
  }
 ],
 "metadata": {
  "kernelspec": {
   "display_name": "Python 3 (ipykernel)",
   "language": "python",
   "name": "python3"
  },
  "language_info": {
   "codemirror_mode": {
    "name": "ipython",
    "version": 3
   },
   "file_extension": ".py",
   "mimetype": "text/x-python",
   "name": "python",
   "nbconvert_exporter": "python",
   "pygments_lexer": "ipython3",
   "version": "3.9.12"
  }
 },
 "nbformat": 4,
 "nbformat_minor": 5
}
