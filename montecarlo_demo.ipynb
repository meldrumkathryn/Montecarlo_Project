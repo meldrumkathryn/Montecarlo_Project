{
 "cells": [
  {
   "cell_type": "markdown",
   "id": "e223a3c6-96ab-40f7-b145-b546bb21a2c4",
   "metadata": {},
   "source": [
    "# Montecarlo Demo\n",
    "\n",
    "Kate Meldrum\n",
    "\n",
    "** All non-project requirements are marked like this"
   ]
  },
  {
   "cell_type": "code",
   "execution_count": 26,
   "id": "84c48565-b153-47c9-ab7b-fbfc022175c6",
   "metadata": {
    "tags": []
   },
   "outputs": [],
   "source": [
    "from montecarlo import *\n",
    "import pandas as pd\n",
    "import warnings\n",
    "warnings.filterwarnings('ignore')"
   ]
  },
  {
   "cell_type": "markdown",
   "id": "55d69213-403a-4760-9300-e4a62425ff0b",
   "metadata": {},
   "source": [
    "## Senario 1: 2-Sided Coin"
   ]
  },
  {
   "cell_type": "markdown",
   "id": "80c6e0ba-d292-42f9-8c2e-27da6a8a603e",
   "metadata": {},
   "source": [
    "We create a fair coin and one unfair coin, both coins have faces 'H' and 'T' and the unfair coin has a head weight of 5:"
   ]
  },
  {
   "cell_type": "code",
   "execution_count": 27,
   "id": "4538d8c9-ac21-4cb0-983e-f3f1d63df437",
   "metadata": {},
   "outputs": [
    {
     "name": "stdout",
     "output_type": "stream",
     "text": [
      "Fair Coin:\n",
      "        Weight\n",
      "Faces        \n",
      "H         1.0\n",
      "T         1.0\n",
      " \n",
      " Unfair Coin:\n",
      "        Weight\n",
      "Faces        \n",
      "H         5.0\n",
      "T         1.0\n"
     ]
    }
   ],
   "source": [
    "fair = die(['H','T'])\n",
    "unfair = die(['H','T'])\n",
    "unfair.change_weight('H', 5)\n",
    "print(\"Fair Coin:\\n\", fair.display())\n",
    "print(\" \\n Unfair Coin:\\n\", unfair.display())"
   ]
  },
  {
   "cell_type": "markdown",
   "id": "da527859-818c-42b1-b061-de3eeb07c060",
   "metadata": {},
   "source": [
    "We play two games of 1000 flips of all coins involved. The fair game is played with three fair dice, and the unfair game is played with two unfair dice and one fair die. The resulting rolls are displayed below:"
   ]
  },
  {
   "cell_type": "code",
   "execution_count": 28,
   "id": "36a505e0-1b8e-439c-8155-39c6048ff573",
   "metadata": {},
   "outputs": [
    {
     "name": "stdout",
     "output_type": "stream",
     "text": [
      "Fair Game: \n",
      "      Die 1 Die 2 Die 3\n",
      "1        H     H     T\n",
      "2        H     H     H\n",
      "3        H     T     H\n",
      "4        T     T     T\n",
      "5        H     H     T\n",
      "...    ...   ...   ...\n",
      "996      H     H     H\n",
      "997      T     H     H\n",
      "998      T     T     H\n",
      "999      T     T     T\n",
      "1000     T     T     H\n",
      "\n",
      "[1000 rows x 3 columns]\n",
      "\n",
      " Unfair Game: \n",
      "      Die 1 Die 2 Die 3\n",
      "1        H     H     T\n",
      "2        H     T     H\n",
      "3        H     H     H\n",
      "4        T     H     H\n",
      "5        H     H     H\n",
      "...    ...   ...   ...\n",
      "996      H     H     H\n",
      "997      H     H     T\n",
      "998      H     T     T\n",
      "999      T     H     H\n",
      "1000     T     H     T\n",
      "\n",
      "[1000 rows x 3 columns]\n"
     ]
    }
   ],
   "source": [
    "fairgame = game([fair,fair, fair])\n",
    "unfairgame = game([unfair,unfair, fair])\n",
    "fairgame.play(1000)\n",
    "unfairgame.play(1000)\n",
    "print(\"Fair Game: \\n\", fairgame.show_rolls())\n",
    "print(\"\\n Unfair Game: \\n\", unfairgame.show_rolls())"
   ]
  },
  {
   "cell_type": "markdown",
   "id": "4fe07153-0d67-4ce2-ae29-90690ba0a4ca",
   "metadata": {},
   "source": [
    "We now analyze this game by finding the number of jackpots for each game and calculating realative frequency of a jackpot roll:"
   ]
  },
  {
   "cell_type": "code",
   "execution_count": 29,
   "id": "2bf442b3-3c3a-4d05-82ce-0e070fcf9b24",
   "metadata": {},
   "outputs": [
    {
     "name": "stdout",
     "output_type": "stream",
     "text": [
      "Fair game jackpots:  237\n",
      "Unfair game jackpots:  310\n"
     ]
    }
   ],
   "source": [
    "fairan = analyzer(fairgame)\n",
    "unfairan = analyzer(unfairgame)\n",
    "fj = fairan.jackpot()\n",
    "uj = unfairan.jackpot()\n",
    "print(\"Fair game jackpots: \", fj);\n",
    "print(\"Unfair game jackpots: \", uj);"
   ]
  },
  {
   "cell_type": "code",
   "execution_count": 30,
   "id": "3c145f9a-ab59-4cbe-9543-89f81a95542c",
   "metadata": {},
   "outputs": [
    {
     "name": "stdout",
     "output_type": "stream",
     "text": [
      "Relative frequency of fair game jackpots:  0.237\n",
      "Relative frequency of unfair game jackpots:  0.31\n"
     ]
    }
   ],
   "source": [
    "print(\"Relative frequency of fair game jackpots: \", fj/1000)\n",
    "print(\"Relative frequency of unfair game jackpots: \", uj/1000)"
   ]
  },
  {
   "cell_type": "markdown",
   "id": "12fcbfec-897d-4d54-b202-97ec173adda8",
   "metadata": {},
   "source": [
    "We plot these results:"
   ]
  },
  {
   "cell_type": "code",
   "execution_count": 31,
   "id": "5e940f28-6e05-40cf-ab92-7043721b0b43",
   "metadata": {},
   "outputs": [],
   "source": [
    "import matplotlib.pyplot as plot"
   ]
  },
  {
   "cell_type": "code",
   "execution_count": 32,
   "id": "08c6da25-c682-4586-8fd5-350953238567",
   "metadata": {},
   "outputs": [
    {
     "data": {
      "image/png": "[encoded data removed]",
      "text/plain": [
       "<Figure size 432x288 with 1 Axes>"
      ]
     },
     "metadata": {
      "needs_background": "light"
     },
     "output_type": "display_data"
    }
   ],
   "source": [
    "plot.bar([\"Fair jackpots\",\"Unfair jackpots\"],[(fj/1000), (uj/1000)])\n",
    "plot.title(\"Relative Frequency of Jackpots\");"
   ]
  },
  {
   "cell_type": "markdown",
   "id": "9c9b2c86-2d59-4b4d-8f88-410de31d3af3",
   "metadata": {},
   "source": [
    "## Senario 2:"
   ]
  },
  {
   "cell_type": "markdown",
   "id": "8b2b1261-624a-44d5-ad47-36643b73cb16",
   "metadata": {},
   "source": [
    "For this senario we create 3 standard 6-sided dice, 'fair' is weighted fairly, 'unfair1' is weighted towards 6 by a factor of 5, and 'unfair2' is weighted towards 1 by a factor of 5. The weights of each die are displayed below:"
   ]
  },
  {
   "cell_type": "code",
   "execution_count": 33,
   "id": "1c3ee0a2-e541-44d8-82f7-176f6ebb932f",
   "metadata": {},
   "outputs": [
    {
     "name": "stdout",
     "output_type": "stream",
     "text": [
      "Fair: \n",
      "        Weight\n",
      "Faces        \n",
      "1         1.0\n",
      "2         1.0\n",
      "3         1.0\n",
      "4         1.0\n",
      "5         1.0\n",
      "6         1.0\n",
      "\n",
      " Unfair1: \n",
      "         Weight\n",
      "Faces        \n",
      "1         1.0\n",
      "2         1.0\n",
      "3         1.0\n",
      "4         1.0\n",
      "5         1.0\n",
      "6         5.0\n",
      "\n",
      " Unfair2: \n",
      "         Weight\n",
      "Faces        \n",
      "1         5.0\n",
      "2         1.0\n",
      "3         1.0\n",
      "4         1.0\n",
      "5         1.0\n",
      "6         1.0\n"
     ]
    }
   ],
   "source": [
    "fair = die([1,2,3,4,5,6])\n",
    "unfair1 = die([1,2,3,4,5,6])\n",
    "unfair1.change_weight(6, 5)\n",
    "unfair2 = die([1,2,3,4,5,6])\n",
    "unfair2.change_weight(1,5)\n",
    "print(\"Fair: \\n\", fair.display())\n",
    "print(\"\\n Unfair1: \\n \", unfair1.display())\n",
    "print(\"\\n Unfair2: \\n \", unfair2.display())"
   ]
  },
  {
   "cell_type": "markdown",
   "id": "aa058eaa-304a-47d7-aefe-4b98d955a07f",
   "metadata": {},
   "source": [
    "Next we use these dice to play two games: a fair game with 6 fiar dice, and an unfair game with two unfair1s, one unfair2, and two fair dice. We both sets of dice 10000 times:"
   ]
  },
  {
   "cell_type": "code",
   "execution_count": 34,
   "id": "4c92028e-721f-472e-8370-21535a887c0f",
   "metadata": {},
   "outputs": [
    {
     "name": "stdout",
     "output_type": "stream",
     "text": [
      "Fair game: \n",
      "        Die 1  Die 2  Die 3  Die 4  Die 5\n",
      "1          6      3      4      6      2\n",
      "2          3      5      4      3      3\n",
      "3          6      2      6      2      6\n",
      "4          5      3      3      6      4\n",
      "5          2      4      3      4      5\n",
      "...      ...    ...    ...    ...    ...\n",
      "9996       4      6      6      1      4\n",
      "9997       4      6      4      1      1\n",
      "9998       5      1      1      1      4\n",
      "9999       5      1      6      2      6\n",
      "10000      6      6      1      5      2\n",
      "\n",
      "[10000 rows x 5 columns]\n"
     ]
    }
   ],
   "source": [
    "fairgame=game([fair, fair, fair, fair, fair])\n",
    "fairgame.play(10000)\n",
    "print(\"Fair game: \\n\", fairgame.show_rolls(wide = True))"
   ]
  },
  {
   "cell_type": "code",
   "execution_count": 35,
   "id": "fea5f189-7c7c-47e5-9a5c-39aca8e395c4",
   "metadata": {},
   "outputs": [
    {
     "name": "stdout",
     "output_type": "stream",
     "text": [
      "Unfair game: \n",
      "        Die 1  Die 2  Die 3  Die 4  Die 5\n",
      "1          4      6      1      6      2\n",
      "2          6      6      1      6      6\n",
      "3          5      6      3      5      3\n",
      "4          1      3      1      3      5\n",
      "5          1      2      1      1      1\n",
      "...      ...    ...    ...    ...    ...\n",
      "9996       6      6      4      1      5\n",
      "9997       6      1      6      1      2\n",
      "9998       6      6      4      4      6\n",
      "9999       5      2      4      1      1\n",
      "10000      6      6      1      4      2\n",
      "\n",
      "[10000 rows x 5 columns]\n"
     ]
    }
   ],
   "source": [
    "unfairgame=game([unfair1, unfair1, unfair2, fair, fair])\n",
    "unfairgame.play(10000)\n",
    "print(\"Unfair game: \\n\", unfairgame.show_rolls())"
   ]
  },
  {
   "cell_type": "markdown",
   "id": "2825f262-b2ff-46cc-9e92-f9130ac54cd7",
   "metadata": {},
   "source": [
    "We again analyze the relative frequency of jackpots of the two games:"
   ]
  },
  {
   "cell_type": "code",
   "execution_count": 36,
   "id": "83682ba4-e4b1-4a7b-9970-c0841fb1ef54",
   "metadata": {},
   "outputs": [],
   "source": [
    "fairanalyzer = analyzer(fairgame)\n",
    "unfairanalyzer = analyzer(unfairgame)"
   ]
  },
  {
   "cell_type": "code",
   "execution_count": 37,
   "id": "a6d7a94a-0cd1-445d-92af-6f669aef6d97",
   "metadata": {},
   "outputs": [
    {
     "name": "stdout",
     "output_type": "stream",
     "text": [
      "Relative frequency of fair game jackpots: 0.0011\n"
     ]
    }
   ],
   "source": [
    "fj = fairanalyzer.jackpot()\n",
    "print(\"Relative frequency of fair game jackpots:\", fj/10000)"
   ]
  },
  {
   "cell_type": "code",
   "execution_count": 38,
   "id": "f4f9541a-3c5a-4ff4-a65c-f2a62bf9c3ee",
   "metadata": {},
   "outputs": [
    {
     "name": "stdout",
     "output_type": "stream",
     "text": [
      "Relative frequency of unfair game jackpots: 0.0007\n"
     ]
    }
   ],
   "source": [
    "uj = unfairanalyzer.jackpot()\n",
    "print(\"Relative frequency of unfair game jackpots:\", uj/10000)"
   ]
  },
  {
   "cell_type": "code",
   "execution_count": 39,
   "id": "4011a936-ba91-4be0-bad1-409ff46a7b4b",
   "metadata": {},
   "outputs": [
    {
     "data": {
      "image/png": "[encoded data removed]",
      "text/plain": [
       "<Figure size 432x288 with 1 Axes>"
      ]
     },
     "metadata": {
      "needs_background": "light"
     },
     "output_type": "display_data"
    }
   ],
   "source": [
    "plot.bar([\"Fair jackpots\",\"Unfair jackpots\"],[(fj/1000), (uj/1000)])\n",
    "plot.title(\"Relative Frequency of Jackpots\");"
   ]
  },
  {
   "cell_type": "markdown",
   "id": "e496431d-97c4-4025-aa8e-6b36669595cf",
   "metadata": {},
   "source": [
    "**We can use the combo and sequence functions to produce multi-index representations of the frequency of each roll combination or roll sequence:"
   ]
  },
  {
   "cell_type": "code",
   "execution_count": 40,
   "id": "35a2f68e-e270-42b0-b063-8b41b3c91380",
   "metadata": {},
   "outputs": [
    {
     "name": "stdout",
     "output_type": "stream",
     "text": [
      "Fair game: \n",
      "            Frequency\n",
      "0 1 2 3 4           \n",
      "1 2 3 5 6        175\n",
      "      4 6        173\n",
      "2 3 4 5 6        161\n",
      "1 2 4 5 6        158\n",
      "  3 4 5 6        147\n",
      "...              ...\n",
      "2 2 2 2 2          2\n",
      "4 4 4 4 4          2\n",
      "3 3 3 3 3          2\n",
      "5 5 5 5 5          1\n",
      "1 1 1 1 1          1\n",
      "\n",
      "[252 rows x 1 columns]                                Frequency\n",
      "Die 1 Die 2 Die 3 Die 4 Die 5           \n",
      "6     6     1     1     1              8\n",
      "3     6     4     1     2              6\n",
      "1     1     1     1     4              6\n",
      "5     5     2     2     6              6\n",
      "3     5     2     5     3              6\n",
      "...                                  ...\n",
      "4     5     1     2     4              1\n",
      "2     3     5     4     6              1\n",
      "4     5     1     2     6              1\n",
      "                  3     3              1\n",
      "1     1     1     1     1              1\n",
      "\n",
      "[5624 rows x 1 columns]\n",
      "Unfair game: \n",
      "            Frequency\n",
      "0 1 2 3 4           \n",
      "1 2 4 6 6        205\n",
      "  4 5 6 6        198\n",
      "  3 4 5 6        196\n",
      "      6 6        192\n",
      "    5 6 6        183\n",
      "...              ...\n",
      "3 3 5 5 5          1\n",
      "    4 4 4          1\n",
      "    3 4 4          1\n",
      "      3 5          1\n",
      "2 4 4 4 4          1\n",
      "\n",
      "[242 rows x 1 columns]                                Frequency\n",
      "Die 1 Die 2 Die 3 Die 4 Die 5           \n",
      "6     6     1     6     5             46\n",
      "                  5     6             42\n",
      "                  6     1             40\n",
      "                  2     2             38\n",
      "                  6     4             38\n",
      "...                                  ...\n",
      "5     2     6     3     1              1\n",
      "                  2     3              1\n",
      "                  1     6              1\n",
      "3     2     4     6     6              1\n",
      "4     4     4     6     1              1\n",
      "\n",
      "[3746 rows x 1 columns]\n"
     ]
    }
   ],
   "source": [
    "print(\"Fair game: \\n\", fairanalyzer.combo(), fairanalyzer.sequence())\n",
    "print(\"Unfair game: \\n\", unfairanalyzer.combo(), unfairanalyzer.sequence())"
   ]
  },
  {
   "cell_type": "markdown",
   "id": "c335c2f3-1adb-4320-929a-12f97a81f459",
   "metadata": {},
   "source": [
    "We can also use the combo function to display the most frequent combinations with a string index that can be easily graphed:"
   ]
  },
  {
   "cell_type": "code",
   "execution_count": 41,
   "id": "8fea113f-e468-48d3-a7ee-202da98b221c",
   "metadata": {},
   "outputs": [
    {
     "name": "stdout",
     "output_type": "stream",
     "text": [
      "Most frequent fair game rolls: \n",
      "                                                        Roll #s Total Frequency\n",
      "Combination                                                                   \n",
      "12356        [10, 77, 145, 276, 366, 437, 561, 625, 647, 72...             175\n",
      "12346        [17, 84, 94, 108, 109, 147, 162, 207, 214, 252...             173\n",
      "23456        [52, 151, 177, 179, 271, 279, 308, 325, 362, 4...             161\n",
      "12456        [99, 188, 260, 446, 458, 488, 564, 811, 887, 9...             158\n",
      "13456        [32, 236, 254, 352, 359, 377, 391, 475, 532, 6...             147\n",
      "12345        [114, 144, 168, 184, 186, 306, 335, 368, 373, ...             146\n",
      "12245        [135, 255, 275, 480, 524, 604, 693, 731, 930, ...              96\n",
      "11245        [137, 157, 443, 559, 590, 609, 696, 702, 875, ...              96\n",
      "12355        [256, 307, 369, 517, 540, 575, 855, 872, 1432,...              90\n",
      "24556        [182, 212, 219, 381, 438, 514, 763, 771, 867, ...              87\n",
      "\n",
      " Most frequent unfair game rolls: \n",
      "                                                        Roll #s Total Frequency\n",
      "Combination                                                                   \n",
      "12466        [1, 119, 156, 164, 234, 387, 447, 452, 574, 60...             205\n",
      "14566        [127, 214, 298, 324, 335, 377, 394, 420, 451, ...             198\n",
      "13456        [41, 124, 152, 157, 399, 438, 461, 670, 717, 7...             196\n",
      "13466        [8, 67, 85, 104, 160, 188, 237, 256, 292, 300,...             192\n",
      "13566        [43, 110, 220, 241, 294, 523, 530, 602, 614, 6...             183\n",
      "12456        [47, 161, 355, 369, 418, 514, 548, 573, 619, 7...             179\n",
      "12356        [146, 150, 187, 223, 299, 398, 417, 429, 460, ...             178\n",
      "11266        [174, 265, 410, 425, 458, 468, 526, 621, 688, ...             174\n",
      "12566        [57, 109, 125, 131, 153, 177, 180, 227, 296, 3...             170\n",
      "12346        [52, 86, 91, 111, 406, 508, 546, 727, 804, 843...             165\n"
     ]
    }
   ],
   "source": [
    "ftt=fairanalyzer.combo(freq = True).head(10)\n",
    "utt=unfairanalyzer.combo(freq = True).head(10)\n",
    "print('Most frequent fair game rolls: \\n', ftt)\n",
    "print('\\n Most frequent unfair game rolls: \\n', utt)"
   ]
  },
  {
   "cell_type": "code",
   "execution_count": 42,
   "id": "b242d5dd-00e2-4bf0-acd3-047ff6aabc20",
   "metadata": {},
   "outputs": [
    {
     "name": "stdout",
     "output_type": "stream",
     "text": [
      "Fair Die:\n"
     ]
    },
    {
     "data": {
      "image/png": "[encoded data removed]",
      "text/plain": [
       "<Figure size 432x288 with 1 Axes>"
      ]
     },
     "metadata": {
      "needs_background": "light"
     },
     "output_type": "display_data"
    }
   ],
   "source": [
    "print('Fair Die:')\n",
    "ftt.plot.bar();\n"
   ]
  },
  {
   "cell_type": "code",
   "execution_count": 43,
   "id": "18460eb9-d45c-4692-bf1d-a985b663e466",
   "metadata": {},
   "outputs": [
    {
     "name": "stdout",
     "output_type": "stream",
     "text": [
      "Unfair Die:\n"
     ]
    },
    {
     "data": {
      "image/png": "[encoded data removed]",
      "text/plain": [
       "<Figure size 432x288 with 1 Axes>"
      ]
     },
     "metadata": {
      "needs_background": "light"
     },
     "output_type": "display_data"
    }
   ],
   "source": [
    "print('Unfair Die:')\n",
    "utt.plot.bar();"
   ]
  },
  {
   "cell_type": "markdown",
   "id": "ece1ea11-265a-4594-9b94-9a25c4580214",
   "metadata": {},
   "source": [
    "## Senario 3: Alphabet Dice"
   ]
  },
  {
   "cell_type": "markdown",
   "id": "711e2857-c2f8-486e-8654-b9640d9a8ab6",
   "metadata": {},
   "source": [
    "For this senario we create a die with 26 faces containing the letters of the alphabet and we weight the faces according to each letter's frequency of usage in the english language. These faces and weights are displayed below:"
   ]
  },
  {
   "cell_type": "code",
   "execution_count": 44,
   "id": "9c8bd7af-20a5-4f7b-a9f4-f079ba70d7ec",
   "metadata": {},
   "outputs": [],
   "source": [
    "alpha = ['a', 'b', 'c', 'd', 'e', 'f', 'g', 'h', 'i', 'j', 'k', 'l', 'm', 'n', 'o', 'p', 'q', 'r', 's', 't', 'u', 'v', 'w', 'x', 'y', 'z']\n",
    "die = die(['a', 'b', 'c', 'd', 'e', 'f', 'g', 'h', 'i', 'j', 'k', 'l', 'm', 'n', 'o', 'p', 'q', 'r', 's', 't', 'u', 'v', 'w', 'x', 'y', 'z'])"
   ]
  },
  {
   "cell_type": "code",
   "execution_count": 45,
   "id": "c5a47ff6-ec9c-47ab-a112-7d3d1e8435a5",
   "metadata": {},
   "outputs": [
    {
     "data": {
      "text/html": [
       "<div>\n",
       "<style scoped>\n",
       "    .dataframe tbody tr th:only-of-type {\n",
       "        vertical-align: middle;\n",
       "    }\n",
       "\n",
       "    .dataframe tbody tr th {\n",
       "        vertical-align: top;\n",
       "    }\n",
       "\n",
       "    .dataframe thead th {\n",
       "        text-align: right;\n",
       "    }\n",
       "</style>\n",
       "<table border=\"1\" class=\"dataframe\">\n",
       "  <thead>\n",
       "    <tr style=\"text-align: right;\">\n",
       "      <th></th>\n",
       "      <th>Weight</th>\n",
       "    </tr>\n",
       "    <tr>\n",
       "      <th>Faces</th>\n",
       "      <th></th>\n",
       "    </tr>\n",
       "  </thead>\n",
       "  <tbody>\n",
       "    <tr>\n",
       "      <th>a</th>\n",
       "      <td>8.4966</td>\n",
       "    </tr>\n",
       "    <tr>\n",
       "      <th>b</th>\n",
       "      <td>2.0720</td>\n",
       "    </tr>\n",
       "    <tr>\n",
       "      <th>c</th>\n",
       "      <td>4.5388</td>\n",
       "    </tr>\n",
       "    <tr>\n",
       "      <th>d</th>\n",
       "      <td>3.3844</td>\n",
       "    </tr>\n",
       "    <tr>\n",
       "      <th>e</th>\n",
       "      <td>11.1607</td>\n",
       "    </tr>\n",
       "    <tr>\n",
       "      <th>f</th>\n",
       "      <td>1.8121</td>\n",
       "    </tr>\n",
       "    <tr>\n",
       "      <th>g</th>\n",
       "      <td>2.4705</td>\n",
       "    </tr>\n",
       "    <tr>\n",
       "      <th>h</th>\n",
       "      <td>3.0034</td>\n",
       "    </tr>\n",
       "    <tr>\n",
       "      <th>i</th>\n",
       "      <td>7.5448</td>\n",
       "    </tr>\n",
       "    <tr>\n",
       "      <th>j</th>\n",
       "      <td>0.1965</td>\n",
       "    </tr>\n",
       "    <tr>\n",
       "      <th>k</th>\n",
       "      <td>1.1016</td>\n",
       "    </tr>\n",
       "    <tr>\n",
       "      <th>l</th>\n",
       "      <td>5.4893</td>\n",
       "    </tr>\n",
       "    <tr>\n",
       "      <th>m</th>\n",
       "      <td>3.0129</td>\n",
       "    </tr>\n",
       "    <tr>\n",
       "      <th>n</th>\n",
       "      <td>6.6544</td>\n",
       "    </tr>\n",
       "    <tr>\n",
       "      <th>o</th>\n",
       "      <td>7.1635</td>\n",
       "    </tr>\n",
       "    <tr>\n",
       "      <th>p</th>\n",
       "      <td>3.1671</td>\n",
       "    </tr>\n",
       "    <tr>\n",
       "      <th>q</th>\n",
       "      <td>0.1962</td>\n",
       "    </tr>\n",
       "    <tr>\n",
       "      <th>r</th>\n",
       "      <td>7.5809</td>\n",
       "    </tr>\n",
       "    <tr>\n",
       "      <th>s</th>\n",
       "      <td>5.7351</td>\n",
       "    </tr>\n",
       "    <tr>\n",
       "      <th>t</th>\n",
       "      <td>6.9509</td>\n",
       "    </tr>\n",
       "    <tr>\n",
       "      <th>u</th>\n",
       "      <td>3.6308</td>\n",
       "    </tr>\n",
       "    <tr>\n",
       "      <th>v</th>\n",
       "      <td>1.0074</td>\n",
       "    </tr>\n",
       "    <tr>\n",
       "      <th>w</th>\n",
       "      <td>1.2899</td>\n",
       "    </tr>\n",
       "    <tr>\n",
       "      <th>x</th>\n",
       "      <td>0.2902</td>\n",
       "    </tr>\n",
       "    <tr>\n",
       "      <th>y</th>\n",
       "      <td>1.7779</td>\n",
       "    </tr>\n",
       "    <tr>\n",
       "      <th>z</th>\n",
       "      <td>0.2722</td>\n",
       "    </tr>\n",
       "  </tbody>\n",
       "</table>\n",
       "</div>"
      ],
      "text/plain": [
       "        Weight\n",
       "Faces         \n",
       "a       8.4966\n",
       "b       2.0720\n",
       "c       4.5388\n",
       "d       3.3844\n",
       "e      11.1607\n",
       "f       1.8121\n",
       "g       2.4705\n",
       "h       3.0034\n",
       "i       7.5448\n",
       "j       0.1965\n",
       "k       1.1016\n",
       "l       5.4893\n",
       "m       3.0129\n",
       "n       6.6544\n",
       "o       7.1635\n",
       "p       3.1671\n",
       "q       0.1962\n",
       "r       7.5809\n",
       "s       5.7351\n",
       "t       6.9509\n",
       "u       3.6308\n",
       "v       1.0074\n",
       "w       1.2899\n",
       "x       0.2902\n",
       "y       1.7779\n",
       "z       0.2722"
      ]
     },
     "execution_count": 45,
     "metadata": {},
     "output_type": "execute_result"
    }
   ],
   "source": [
    "freq = [8.4966, 2.0720, 4.5388, 3.3844, 11.1607, 1.8121, 2.4705, 3.0034, 7.5448, 0.1965, 1.1016, 5.4893, 3.0129, 6.6544, 7.1635, 3.1671, 0.1962, 7.5809, 5.7351, 6.9509, 3.6308, 1.0074, 1.2899, 0.2902, 1.7779, 0.2722]\n",
    "for i in range(0,26):\n",
    "    die.change_weight(alpha[i], freq[i])\n",
    "die.display()"
   ]
  },
  {
   "cell_type": "markdown",
   "id": "e45e2692-731e-4da0-9835-0fb7e988b78b",
   "metadata": {},
   "source": [
    "We can use this die format to play a game where 5 alphabet dice are rolled 1000 times:"
   ]
  },
  {
   "cell_type": "code",
   "execution_count": 46,
   "id": "b30a52e5-0e85-41c9-959f-291e50fb36d9",
   "metadata": {},
   "outputs": [
    {
     "data": {
      "text/html": [
       "<div>\n",
       "<style scoped>\n",
       "    .dataframe tbody tr th:only-of-type {\n",
       "        vertical-align: middle;\n",
       "    }\n",
       "\n",
       "    .dataframe tbody tr th {\n",
       "        vertical-align: top;\n",
       "    }\n",
       "\n",
       "    .dataframe thead th {\n",
       "        text-align: right;\n",
       "    }\n",
       "</style>\n",
       "<table border=\"1\" class=\"dataframe\">\n",
       "  <thead>\n",
       "    <tr style=\"text-align: right;\">\n",
       "      <th></th>\n",
       "      <th>Die 1</th>\n",
       "      <th>Die 2</th>\n",
       "      <th>Die 3</th>\n",
       "      <th>Die 4</th>\n",
       "      <th>Die 5</th>\n",
       "    </tr>\n",
       "  </thead>\n",
       "  <tbody>\n",
       "    <tr>\n",
       "      <th>1</th>\n",
       "      <td>t</td>\n",
       "      <td>b</td>\n",
       "      <td>s</td>\n",
       "      <td>u</td>\n",
       "      <td>c</td>\n",
       "    </tr>\n",
       "    <tr>\n",
       "      <th>2</th>\n",
       "      <td>a</td>\n",
       "      <td>i</td>\n",
       "      <td>e</td>\n",
       "      <td>n</td>\n",
       "      <td>a</td>\n",
       "    </tr>\n",
       "    <tr>\n",
       "      <th>3</th>\n",
       "      <td>i</td>\n",
       "      <td>r</td>\n",
       "      <td>s</td>\n",
       "      <td>y</td>\n",
       "      <td>m</td>\n",
       "    </tr>\n",
       "    <tr>\n",
       "      <th>4</th>\n",
       "      <td>g</td>\n",
       "      <td>i</td>\n",
       "      <td>t</td>\n",
       "      <td>l</td>\n",
       "      <td>l</td>\n",
       "    </tr>\n",
       "    <tr>\n",
       "      <th>5</th>\n",
       "      <td>a</td>\n",
       "      <td>e</td>\n",
       "      <td>t</td>\n",
       "      <td>i</td>\n",
       "      <td>m</td>\n",
       "    </tr>\n",
       "    <tr>\n",
       "      <th>...</th>\n",
       "      <td>...</td>\n",
       "      <td>...</td>\n",
       "      <td>...</td>\n",
       "      <td>...</td>\n",
       "      <td>...</td>\n",
       "    </tr>\n",
       "    <tr>\n",
       "      <th>996</th>\n",
       "      <td>s</td>\n",
       "      <td>t</td>\n",
       "      <td>t</td>\n",
       "      <td>t</td>\n",
       "      <td>i</td>\n",
       "    </tr>\n",
       "    <tr>\n",
       "      <th>997</th>\n",
       "      <td>l</td>\n",
       "      <td>k</td>\n",
       "      <td>u</td>\n",
       "      <td>d</td>\n",
       "      <td>r</td>\n",
       "    </tr>\n",
       "    <tr>\n",
       "      <th>998</th>\n",
       "      <td>l</td>\n",
       "      <td>a</td>\n",
       "      <td>g</td>\n",
       "      <td>g</td>\n",
       "      <td>h</td>\n",
       "    </tr>\n",
       "    <tr>\n",
       "      <th>999</th>\n",
       "      <td>r</td>\n",
       "      <td>c</td>\n",
       "      <td>t</td>\n",
       "      <td>d</td>\n",
       "      <td>e</td>\n",
       "    </tr>\n",
       "    <tr>\n",
       "      <th>1000</th>\n",
       "      <td>a</td>\n",
       "      <td>n</td>\n",
       "      <td>n</td>\n",
       "      <td>g</td>\n",
       "      <td>t</td>\n",
       "    </tr>\n",
       "  </tbody>\n",
       "</table>\n",
       "<p>1000 rows × 5 columns</p>\n",
       "</div>"
      ],
      "text/plain": [
       "     Die 1 Die 2 Die 3 Die 4 Die 5\n",
       "1        t     b     s     u     c\n",
       "2        a     i     e     n     a\n",
       "3        i     r     s     y     m\n",
       "4        g     i     t     l     l\n",
       "5        a     e     t     i     m\n",
       "...    ...   ...   ...   ...   ...\n",
       "996      s     t     t     t     i\n",
       "997      l     k     u     d     r\n",
       "998      l     a     g     g     h\n",
       "999      r     c     t     d     e\n",
       "1000     a     n     n     g     t\n",
       "\n",
       "[1000 rows x 5 columns]"
      ]
     },
     "execution_count": 46,
     "metadata": {},
     "output_type": "execute_result"
    }
   ],
   "source": [
    "game = game([die,die,die,die,die])\n",
    "game.play(1000)\n",
    "df = game.show_rolls()\n",
    "df "
   ]
  },
  {
   "cell_type": "markdown",
   "id": "5ebb1a62-447b-4e79-8574-a73616c67e63",
   "metadata": {},
   "source": [
    "**We can represent these rolls as counts of each possible face per roll using the counts function:"
   ]
  },
  {
   "cell_type": "code",
   "execution_count": 47,
   "id": "b535b4c8-9a1b-4eea-8555-04c536e60253",
   "metadata": {},
   "outputs": [
    {
     "data": {
      "text/html": [
       "<div>\n",
       "<style scoped>\n",
       "    .dataframe tbody tr th:only-of-type {\n",
       "        vertical-align: middle;\n",
       "    }\n",
       "\n",
       "    .dataframe tbody tr th {\n",
       "        vertical-align: top;\n",
       "    }\n",
       "\n",
       "    .dataframe thead th {\n",
       "        text-align: right;\n",
       "    }\n",
       "</style>\n",
       "<table border=\"1\" class=\"dataframe\">\n",
       "  <thead>\n",
       "    <tr style=\"text-align: right;\">\n",
       "      <th></th>\n",
       "      <th>a</th>\n",
       "      <th>b</th>\n",
       "      <th>c</th>\n",
       "      <th>d</th>\n",
       "      <th>e</th>\n",
       "      <th>f</th>\n",
       "      <th>g</th>\n",
       "      <th>h</th>\n",
       "      <th>i</th>\n",
       "      <th>j</th>\n",
       "      <th>k</th>\n",
       "      <th>l</th>\n",
       "      <th>m</th>\n",
       "      <th>n</th>\n",
       "      <th>o</th>\n",
       "      <th>p</th>\n",
       "      <th>q</th>\n",
       "      <th>r</th>\n",
       "      <th>s</th>\n",
       "      <th>t</th>\n",
       "      <th>u</th>\n",
       "      <th>v</th>\n",
       "      <th>w</th>\n",
       "      <th>x</th>\n",
       "      <th>y</th>\n",
       "      <th>z</th>\n",
       "    </tr>\n",
       "  </thead>\n",
       "  <tbody>\n",
       "    <tr>\n",
       "      <th>1</th>\n",
       "      <td>0</td>\n",
       "      <td>1</td>\n",
       "      <td>1</td>\n",
       "      <td>0</td>\n",
       "      <td>0</td>\n",
       "      <td>0</td>\n",
       "      <td>0</td>\n",
       "      <td>0</td>\n",
       "      <td>0</td>\n",
       "      <td>0</td>\n",
       "      <td>0</td>\n",
       "      <td>0</td>\n",
       "      <td>0</td>\n",
       "      <td>0</td>\n",
       "      <td>0</td>\n",
       "      <td>0</td>\n",
       "      <td>0</td>\n",
       "      <td>0</td>\n",
       "      <td>1</td>\n",
       "      <td>1</td>\n",
       "      <td>1</td>\n",
       "      <td>0</td>\n",
       "      <td>0</td>\n",
       "      <td>0</td>\n",
       "      <td>0</td>\n",
       "      <td>0</td>\n",
       "    </tr>\n",
       "    <tr>\n",
       "      <th>2</th>\n",
       "      <td>2</td>\n",
       "      <td>0</td>\n",
       "      <td>0</td>\n",
       "      <td>0</td>\n",
       "      <td>1</td>\n",
       "      <td>0</td>\n",
       "      <td>0</td>\n",
       "      <td>0</td>\n",
       "      <td>1</td>\n",
       "      <td>0</td>\n",
       "      <td>0</td>\n",
       "      <td>0</td>\n",
       "      <td>0</td>\n",
       "      <td>1</td>\n",
       "      <td>0</td>\n",
       "      <td>0</td>\n",
       "      <td>0</td>\n",
       "      <td>0</td>\n",
       "      <td>0</td>\n",
       "      <td>0</td>\n",
       "      <td>0</td>\n",
       "      <td>0</td>\n",
       "      <td>0</td>\n",
       "      <td>0</td>\n",
       "      <td>0</td>\n",
       "      <td>0</td>\n",
       "    </tr>\n",
       "    <tr>\n",
       "      <th>3</th>\n",
       "      <td>0</td>\n",
       "      <td>0</td>\n",
       "      <td>0</td>\n",
       "      <td>0</td>\n",
       "      <td>0</td>\n",
       "      <td>0</td>\n",
       "      <td>0</td>\n",
       "      <td>0</td>\n",
       "      <td>1</td>\n",
       "      <td>0</td>\n",
       "      <td>0</td>\n",
       "      <td>0</td>\n",
       "      <td>1</td>\n",
       "      <td>0</td>\n",
       "      <td>0</td>\n",
       "      <td>0</td>\n",
       "      <td>0</td>\n",
       "      <td>1</td>\n",
       "      <td>1</td>\n",
       "      <td>0</td>\n",
       "      <td>0</td>\n",
       "      <td>0</td>\n",
       "      <td>0</td>\n",
       "      <td>0</td>\n",
       "      <td>1</td>\n",
       "      <td>0</td>\n",
       "    </tr>\n",
       "    <tr>\n",
       "      <th>4</th>\n",
       "      <td>0</td>\n",
       "      <td>0</td>\n",
       "      <td>0</td>\n",
       "      <td>0</td>\n",
       "      <td>0</td>\n",
       "      <td>0</td>\n",
       "      <td>1</td>\n",
       "      <td>0</td>\n",
       "      <td>1</td>\n",
       "      <td>0</td>\n",
       "      <td>0</td>\n",
       "      <td>2</td>\n",
       "      <td>0</td>\n",
       "      <td>0</td>\n",
       "      <td>0</td>\n",
       "      <td>0</td>\n",
       "      <td>0</td>\n",
       "      <td>0</td>\n",
       "      <td>0</td>\n",
       "      <td>1</td>\n",
       "      <td>0</td>\n",
       "      <td>0</td>\n",
       "      <td>0</td>\n",
       "      <td>0</td>\n",
       "      <td>0</td>\n",
       "      <td>0</td>\n",
       "    </tr>\n",
       "    <tr>\n",
       "      <th>5</th>\n",
       "      <td>1</td>\n",
       "      <td>0</td>\n",
       "      <td>0</td>\n",
       "      <td>0</td>\n",
       "      <td>1</td>\n",
       "      <td>0</td>\n",
       "      <td>0</td>\n",
       "      <td>0</td>\n",
       "      <td>1</td>\n",
       "      <td>0</td>\n",
       "      <td>0</td>\n",
       "      <td>0</td>\n",
       "      <td>1</td>\n",
       "      <td>0</td>\n",
       "      <td>0</td>\n",
       "      <td>0</td>\n",
       "      <td>0</td>\n",
       "      <td>0</td>\n",
       "      <td>0</td>\n",
       "      <td>1</td>\n",
       "      <td>0</td>\n",
       "      <td>0</td>\n",
       "      <td>0</td>\n",
       "      <td>0</td>\n",
       "      <td>0</td>\n",
       "      <td>0</td>\n",
       "    </tr>\n",
       "    <tr>\n",
       "      <th>...</th>\n",
       "      <td>...</td>\n",
       "      <td>...</td>\n",
       "      <td>...</td>\n",
       "      <td>...</td>\n",
       "      <td>...</td>\n",
       "      <td>...</td>\n",
       "      <td>...</td>\n",
       "      <td>...</td>\n",
       "      <td>...</td>\n",
       "      <td>...</td>\n",
       "      <td>...</td>\n",
       "      <td>...</td>\n",
       "      <td>...</td>\n",
       "      <td>...</td>\n",
       "      <td>...</td>\n",
       "      <td>...</td>\n",
       "      <td>...</td>\n",
       "      <td>...</td>\n",
       "      <td>...</td>\n",
       "      <td>...</td>\n",
       "      <td>...</td>\n",
       "      <td>...</td>\n",
       "      <td>...</td>\n",
       "      <td>...</td>\n",
       "      <td>...</td>\n",
       "      <td>...</td>\n",
       "    </tr>\n",
       "    <tr>\n",
       "      <th>996</th>\n",
       "      <td>0</td>\n",
       "      <td>0</td>\n",
       "      <td>0</td>\n",
       "      <td>0</td>\n",
       "      <td>0</td>\n",
       "      <td>0</td>\n",
       "      <td>0</td>\n",
       "      <td>0</td>\n",
       "      <td>1</td>\n",
       "      <td>0</td>\n",
       "      <td>0</td>\n",
       "      <td>0</td>\n",
       "      <td>0</td>\n",
       "      <td>0</td>\n",
       "      <td>0</td>\n",
       "      <td>0</td>\n",
       "      <td>0</td>\n",
       "      <td>0</td>\n",
       "      <td>1</td>\n",
       "      <td>3</td>\n",
       "      <td>0</td>\n",
       "      <td>0</td>\n",
       "      <td>0</td>\n",
       "      <td>0</td>\n",
       "      <td>0</td>\n",
       "      <td>0</td>\n",
       "    </tr>\n",
       "    <tr>\n",
       "      <th>997</th>\n",
       "      <td>0</td>\n",
       "      <td>0</td>\n",
       "      <td>0</td>\n",
       "      <td>1</td>\n",
       "      <td>0</td>\n",
       "      <td>0</td>\n",
       "      <td>0</td>\n",
       "      <td>0</td>\n",
       "      <td>0</td>\n",
       "      <td>0</td>\n",
       "      <td>1</td>\n",
       "      <td>1</td>\n",
       "      <td>0</td>\n",
       "      <td>0</td>\n",
       "      <td>0</td>\n",
       "      <td>0</td>\n",
       "      <td>0</td>\n",
       "      <td>1</td>\n",
       "      <td>0</td>\n",
       "      <td>0</td>\n",
       "      <td>1</td>\n",
       "      <td>0</td>\n",
       "      <td>0</td>\n",
       "      <td>0</td>\n",
       "      <td>0</td>\n",
       "      <td>0</td>\n",
       "    </tr>\n",
       "    <tr>\n",
       "      <th>998</th>\n",
       "      <td>1</td>\n",
       "      <td>0</td>\n",
       "      <td>0</td>\n",
       "      <td>0</td>\n",
       "      <td>0</td>\n",
       "      <td>0</td>\n",
       "      <td>2</td>\n",
       "      <td>1</td>\n",
       "      <td>0</td>\n",
       "      <td>0</td>\n",
       "      <td>0</td>\n",
       "      <td>1</td>\n",
       "      <td>0</td>\n",
       "      <td>0</td>\n",
       "      <td>0</td>\n",
       "      <td>0</td>\n",
       "      <td>0</td>\n",
       "      <td>0</td>\n",
       "      <td>0</td>\n",
       "      <td>0</td>\n",
       "      <td>0</td>\n",
       "      <td>0</td>\n",
       "      <td>0</td>\n",
       "      <td>0</td>\n",
       "      <td>0</td>\n",
       "      <td>0</td>\n",
       "    </tr>\n",
       "    <tr>\n",
       "      <th>999</th>\n",
       "      <td>0</td>\n",
       "      <td>0</td>\n",
       "      <td>1</td>\n",
       "      <td>1</td>\n",
       "      <td>1</td>\n",
       "      <td>0</td>\n",
       "      <td>0</td>\n",
       "      <td>0</td>\n",
       "      <td>0</td>\n",
       "      <td>0</td>\n",
       "      <td>0</td>\n",
       "      <td>0</td>\n",
       "      <td>0</td>\n",
       "      <td>0</td>\n",
       "      <td>0</td>\n",
       "      <td>0</td>\n",
       "      <td>0</td>\n",
       "      <td>1</td>\n",
       "      <td>0</td>\n",
       "      <td>1</td>\n",
       "      <td>0</td>\n",
       "      <td>0</td>\n",
       "      <td>0</td>\n",
       "      <td>0</td>\n",
       "      <td>0</td>\n",
       "      <td>0</td>\n",
       "    </tr>\n",
       "    <tr>\n",
       "      <th>1000</th>\n",
       "      <td>1</td>\n",
       "      <td>0</td>\n",
       "      <td>0</td>\n",
       "      <td>0</td>\n",
       "      <td>0</td>\n",
       "      <td>0</td>\n",
       "      <td>1</td>\n",
       "      <td>0</td>\n",
       "      <td>0</td>\n",
       "      <td>0</td>\n",
       "      <td>0</td>\n",
       "      <td>0</td>\n",
       "      <td>0</td>\n",
       "      <td>2</td>\n",
       "      <td>0</td>\n",
       "      <td>0</td>\n",
       "      <td>0</td>\n",
       "      <td>0</td>\n",
       "      <td>0</td>\n",
       "      <td>1</td>\n",
       "      <td>0</td>\n",
       "      <td>0</td>\n",
       "      <td>0</td>\n",
       "      <td>0</td>\n",
       "      <td>0</td>\n",
       "      <td>0</td>\n",
       "    </tr>\n",
       "  </tbody>\n",
       "</table>\n",
       "<p>1000 rows × 26 columns</p>\n",
       "</div>"
      ],
      "text/plain": [
       "      a  b  c  d  e  f  g  h  i  j  k  l  m  n  o  p  q  r  s  t  u  v  w  x  \\\n",
       "1     0  1  1  0  0  0  0  0  0  0  0  0  0  0  0  0  0  0  1  1  1  0  0  0   \n",
       "2     2  0  0  0  1  0  0  0  1  0  0  0  0  1  0  0  0  0  0  0  0  0  0  0   \n",
       "3     0  0  0  0  0  0  0  0  1  0  0  0  1  0  0  0  0  1  1  0  0  0  0  0   \n",
       "4     0  0  0  0  0  0  1  0  1  0  0  2  0  0  0  0  0  0  0  1  0  0  0  0   \n",
       "5     1  0  0  0  1  0  0  0  1  0  0  0  1  0  0  0  0  0  0  1  0  0  0  0   \n",
       "...  .. .. .. .. .. .. .. .. .. .. .. .. .. .. .. .. .. .. .. .. .. .. .. ..   \n",
       "996   0  0  0  0  0  0  0  0  1  0  0  0  0  0  0  0  0  0  1  3  0  0  0  0   \n",
       "997   0  0  0  1  0  0  0  0  0  0  1  1  0  0  0  0  0  1  0  0  1  0  0  0   \n",
       "998   1  0  0  0  0  0  2  1  0  0  0  1  0  0  0  0  0  0  0  0  0  0  0  0   \n",
       "999   0  0  1  1  1  0  0  0  0  0  0  0  0  0  0  0  0  1  0  1  0  0  0  0   \n",
       "1000  1  0  0  0  0  0  1  0  0  0  0  0  0  2  0  0  0  0  0  1  0  0  0  0   \n",
       "\n",
       "      y  z  \n",
       "1     0  0  \n",
       "2     0  0  \n",
       "3     1  0  \n",
       "4     0  0  \n",
       "5     0  0  \n",
       "...  .. ..  \n",
       "996   0  0  \n",
       "997   0  0  \n",
       "998   0  0  \n",
       "999   0  0  \n",
       "1000  0  0  \n",
       "\n",
       "[1000 rows x 26 columns]"
      ]
     },
     "execution_count": 47,
     "metadata": {},
     "output_type": "execute_result"
    }
   ],
   "source": [
    "analyzer1 = analyzer(game)\n",
    "pd.set_option('display.max_columns', None)\n",
    "analyzer1.counts()"
   ]
  },
  {
   "cell_type": "markdown",
   "id": "d0aa7234-04dc-4a6d-bf0f-dc1073c5a9dc",
   "metadata": {},
   "source": [
    "We can analyze this by iterating through each row and comparing it to the official list of 5 letter scrabble words:"
   ]
  },
  {
   "cell_type": "code",
   "execution_count": 48,
   "id": "fc9fc575-26f8-4986-8964-ead3b99432ef",
   "metadata": {},
   "outputs": [],
   "source": [
    "rolls_lst = []\n",
    "for i in range(len(df)):   \n",
    "    rolls_lst.append(''.join(list(df.iloc[i,:])))"
   ]
  },
  {
   "cell_type": "code",
   "execution_count": 49,
   "id": "8600a5d8-bffa-47dc-a54c-25b4bfb2cb3f",
   "metadata": {},
   "outputs": [
    {
     "name": "stdout",
     "output_type": "stream",
     "text": [
      "['loose', 'viers', 'tills']\n"
     ]
    }
   ],
   "source": [
    "from scrab import scrab_words_5l\n",
    "real_words = []\n",
    "for roll in rolls_lst:\n",
    "    if roll in scrab_words_5l:\n",
    "        real_words.append(roll)\n",
    "print(real_words)"
   ]
  },
  {
   "cell_type": "markdown",
   "id": "2a19a503-75cd-4e09-864b-e6213aac6a76",
   "metadata": {},
   "source": [
    "Now that we have found how many real words were created we can find the relative frequency of real words created by rolling 5 alphabet dice:"
   ]
  },
  {
   "cell_type": "code",
   "execution_count": 50,
   "id": "b59aa372-404e-4365-ae06-0e0dfba993de",
   "metadata": {},
   "outputs": [
    {
     "name": "stdout",
     "output_type": "stream",
     "text": [
      "Relative Frequency:  0.003\n"
     ]
    }
   ],
   "source": [
    "print(\"Relative Frequency: \", len(real_words)/1000)"
   ]
  }
 ],
 "metadata": {
  "kernelspec": {
   "display_name": "Python 3 (ipykernel)",
   "language": "python",
   "name": "python3"
  },
  "language_info": {
   "codemirror_mode": {
    "name": "ipython",
    "version": 3
   },
   "file_extension": ".py",
   "mimetype": "text/x-python",
   "name": "python",
   "nbconvert_exporter": "python",
   "pygments_lexer": "ipython3",
   "version": "3.9.12"
  }
 },
 "nbformat": 4,
 "nbformat_minor": 5
}
